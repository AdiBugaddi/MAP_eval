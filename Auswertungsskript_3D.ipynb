{
 "cells": [
  {
   "cell_type": "code",
   "execution_count": 58,
   "metadata": {
    "cell_id": "a8054d3a-a8df-411c-8c45-0f0abd167e98",
    "deepnote_cell_type": "code",
    "deepnote_to_be_reexecuted": false,
    "execution_millis": 4,
    "execution_start": 1642691464099,
    "source_hash": "1627f1b"
   },
   "outputs": [],
   "source": [
    "import acoular\n",
    "import matplotlib.pyplot as pl\n",
    "import ipywidgets as ipw\n",
    "import numpy as np\n",
    "from glob import glob\n",
    "from os import path\n",
    "import pylab as plt\n",
    "import math as m\n",
    "import mpl_toolkits.mplot3d\n",
    "from mpl_toolkits.axes_grid1 import make_axes_locatable\n",
    "import scipy as sc\n"
   ]
  },
  {
   "cell_type": "code",
   "execution_count": 59,
   "metadata": {},
   "outputs": [],
   "source": [
    "# Einlesen der Micgeo\n",
    "micgeofile = 'mic_geo.xml'\n",
    "mg = acoular.MicGeom(from_file=micgeofile)\n",
    "mg.mpos[0] = - mg.mpos[0] #Spiegeln\n",
    "mg.mpos[0] = mg.mpos[0] + 0.419 #Versatz\n",
    "#print(mg.mpos)\n",
    "\n",
    "# Rotationsmatrix\n",
    "def Rx(theta):\n",
    "  return np.matrix([[ 1, 0           , 0           ],\n",
    "                    [ 0, m.cos(theta),-m.sin(theta)],\n",
    "                    [ 0, m.sin(theta), m.cos(theta)]])\n",
    "                   \n",
    "for i in range (64):\n",
    "    Punkt = [mg.mpos[0][i],mg.mpos[1][i],mg.mpos[2][i]]\n",
    "    rot = np.array(Punkt * Rx(np.radians(-40))) # radians -> rotation angle \n",
    "    #print(rot[0][0])\n",
    "    mg.mpos[0][i] = rot[0][0]\n",
    "    mg.mpos[1][i] = rot[0][1]\n",
    "    mg.mpos[2][i] = rot[0][2]\n",
    "mg.mpos[1] = - mg.mpos[1]\n",
    "\n",
    "# plt.ion()\n",
    "#plt.plot(mg.mpos[2],mg.mpos[1],'o')\n",
    "\n",
    "# Umgebung definieren (Medium, Strömung etc)\n",
    "t = 23.6\n",
    "e = acoular.Environment(c = 20.05*np.sqrt(273+t))"
   ]
  },
  {
   "cell_type": "markdown",
   "metadata": {
    "cell_id": "00001-1940cbd5-1a20-4f3e-b66c-3acb5d563914",
    "deepnote_cell_type": "markdown"
   },
   "source": [
    "Einlesen der Daten:"
   ]
  },
  {
   "cell_type": "code",
   "execution_count": 339,
   "metadata": {},
   "outputs": [
    {
     "data": {
      "text/plain": [
       "'\\nsim_signal1 = acoular.WNoiseGenerator(sample_freq=sfreq, numsamples=nsamples, seed=1)\\n\\nts = acoular.PointSource(signal = sim_signal1,          # Signal der Quelle\\n                   loc = (0, 0.2, 10.0),  # Position der Punktquelle im links-orientierten Koordinatensystem\\n                   mics = mg,            # Mikrofongeometrie, auf der Messdaten erzeugt werden sollen\\n                   env = e)             # Umgebung, in der sich das Schallfeld ausbreitet\\n'"
      ]
     },
     "execution_count": 339,
     "metadata": {},
     "output_type": "execute_result"
    }
   ],
   "source": [
    "#Simuliertes Signal erzeugen\n",
    "sfreq = 51200\n",
    "duration = 1\n",
    "nsamples = duration*sfreq\n",
    "\n",
    "sim_signal1 = acoular.WNoiseGenerator(sample_freq=sfreq, numsamples=nsamples, seed=1)\n",
    "sim_signal2 = acoular.WNoiseGenerator(sample_freq=sfreq, numsamples=nsamples, seed=2)\n",
    "\n",
    "sim_signal = acoular.SineGenerator(sample_freq = sfreq,   # Abtastfrequenz\n",
    "                     numsamples = nsamples,     # Anzahl der Samples, entspricht Messzeit (hier extrem kurz)\n",
    "                     freq = 800,           # Sinusfrequenz\n",
    "                     amplitude = 1.)     \n",
    "\n",
    "sim_ts1 = acoular.PointSource(signal = sim_signal1,          # Signal der Quelle\n",
    "                   loc = (0, 0, 2.0),  # Position der Punktquelle im links-orientierten Koordinatensystem\n",
    "                   mics = mg,            # Mikrofongeometrie, auf der Messdaten erzeugt werden sollen\n",
    "                   env = e)             # Umgebung, in der sich das Schallfeld ausbreitet\n",
    "#sim_ts2 = acoular.PointSource(signal = sim_signal2,          # Signal der Quelle\n",
    "#                   loc = (-5.0, 0, 1.5),  # Position der Punktquelle im links-orientierten Koordinatensystem\n",
    "#                   mics = mg,            # Mikrofongeometrie, auf der Messdaten erzeugt werden sollen\n",
    "#                   env = e)             # Umgebung, in der sich das Schallfeld ausbreitet\n",
    "ts = acoular.SourceMixer( sources=[sim_ts1])\n",
    "'''\n",
    "sim_signal1 = acoular.WNoiseGenerator(sample_freq=sfreq, numsamples=nsamples, seed=1)\n",
    "\n",
    "ts = acoular.PointSource(signal = sim_signal1,          # Signal der Quelle\n",
    "                   loc = (0, 0.2, 10.0),  # Position der Punktquelle im links-orientierten Koordinatensystem\n",
    "                   mics = mg,            # Mikrofongeometrie, auf der Messdaten erzeugt werden sollen\n",
    "                   env = e)             # Umgebung, in der sich das Schallfeld ausbreitet\n",
    "'''"
   ]
  },
  {
   "cell_type": "code",
   "execution_count": 326,
   "metadata": {},
   "outputs": [
    {
     "data": {
      "text/plain": [
       "<acoular.sources.TimeSamples at 0x7f93b577a4a0>"
      ]
     },
     "execution_count": 326,
     "metadata": {},
     "output_type": "execute_result"
    }
   ],
   "source": [
    "#Einlesen der Daten:\n",
    "#ts = acoular.TimeSamples( name='Messungen WFS\\msm_025.h5' )\n",
    "ts = acoular.TimeSamples( name='Messungen_WFS/msm_025.h5' )\n",
    "ts "
   ]
  },
  {
   "cell_type": "code",
   "execution_count": 340,
   "metadata": {},
   "outputs": [],
   "source": [
    "#Grid erstellen\n",
    "\n",
    "focus_plane = 2\n",
    "x_range = 3     # times two -> around 0\n",
    "y_range = 2     # times two -> around 0\n",
    "z_range = 6     # from 0\n",
    "incrmt = 0.02\n",
    "blocksize = 4096\n",
    "f_min = 100\n",
    "f_max = 22000\n",
    "\n",
    "rg = acoular.RectGrid3D(x_min=-x_range, x_max=x_range, \n",
    "                       y_min=-y_range, y_max=y_range, \n",
    "                       z_min=focus_plane, z_max=focus_plane, \n",
    "                       increment=incrmt)\n",
    "              \n",
    "#Steering Vector\n",
    "st = acoular.SteeringVector( grid=rg, \n",
    "                             mics=mg, \n",
    "                             #ref=1,     # Tipp von Gert, ref auf 1m, stimmt das so? Und wieso?\n",
    "                             env = e,\n",
    "                             steer_type = 'true location') # ???\n",
    "\n",
    "#Spectrum erstellen:\n",
    "ps = acoular.PowerSpectra( time_data=ts, \n",
    "                           block_size=blocksize,\n",
    "                           freq_range=[f_min, f_max],\n",
    "                           window='Hanning' ) # Für bessere Auflösung hier Block_size erhöhen -> höherer Rechnenaufwand, daher jetzt erstmal mit 128\n",
    "\n",
    "\n",
    "bb = acoular.BeamformerBase( freq_data=ps, \n",
    "                             steer=st )\n",
    "\n",
    "                             #Grid erstellen\n",
    "\n",
    " #=================== TOP VIEW =====================                            \n",
    "rg2 = acoular.RectGrid3D(x_min=-x_range, x_max=x_range, \n",
    "                       y_min=0, y_max=0, \n",
    "                       z_min=0, z_max=z_range, \n",
    "                       increment=incrmt)\n",
    "\n",
    "#Steering Vector\n",
    "st2 = acoular.SteeringVector(grid=rg2, \n",
    "                             mics=mg, \n",
    "                             #ref=1,     # Tipp von Gert, ref auf 1m, stimmt das so? Und wieso?\n",
    "                             env = e,\n",
    "                             steer_type = 'true location') # ???\n",
    "\n",
    "#Spectrum erstellen:\n",
    "ps2 = acoular.PowerSpectra(time_data=ts, \n",
    "                           block_size=blocksize,\n",
    "                           freq_range=[f_min, f_max],\n",
    "                           window='Hanning' ) # Für bessere Auflösung hier Block_size erhöhen -> höherer Rechnenaufwand, daher jetzt erstmal mit 128\n",
    "\n",
    "\n",
    "bb2 = acoular.BeamformerBase(freq_data=ps2, \n",
    "                             steer=st2 )\n",
    "\n",
    "\n",
    "\n"
   ]
  },
  {
   "cell_type": "code",
   "execution_count": 379,
   "metadata": {},
   "outputs": [],
   "source": [
    "# 200 250 315 400 500 630 800 1000 1250 1600 2000 2500 3150 4000 5000 6300 8000 10000 12500 16000 20000\n",
    "\n",
    "bandwidth_dict = {\n",
    "  \"Freq\": 0,\n",
    "  \"Okt\": 1,\n",
    "  \"Terz\": 3\n",
    "}\n",
    "\n",
    "bandwith = 'Terz'\n",
    "Frequenz =  12500\n",
    "tolerance = 10\n",
    "pm = bb.synthetic(Frequenz, bandwidth_dict[bandwith])\n",
    "pm2 = bb2.synthetic(Frequenz, bandwidth_dict[bandwith])\n",
    " # 0=Freq, 1=Okt, 3=Terz"
   ]
  },
  {
   "cell_type": "code",
   "execution_count": 380,
   "metadata": {},
   "outputs": [
    {
     "name": "stdout",
     "output_type": "stream",
     "text": [
      "Quellposition xy bei x = [0.] / y = [0.]\n",
      "79.8047392799122\n"
     ]
    },
    {
     "data": {
      "image/png": "[encoded data removed]",
      "text/plain": [
       "<Figure size 266.4x201.6 with 2 Axes>"
      ]
     },
     "metadata": {
      "needs_background": "light"
     },
     "output_type": "display_data"
    }
   ],
   "source": [
    "FONTSIZE = 12\n",
    "fig=plt.figure(1,(3.7,2.8))\n",
    "map_z = np.sum(pm,2)\n",
    "mx = acoular.L_p(map_z.max())\n",
    "Lm_z = acoular.L_p(map_z)\n",
    "max_pegel_z = max_pegel(Lm_z, tolerance)\n",
    "x_coord_max_front = np.where(Lm_z.T == max_pegel_z[0])[1]*rg.increment-((rg.x_max-rg.x_min)/2)\n",
    "y_coord_max_front = np.where(Lm_z.T == max_pegel_z[0])[0]*rg.increment-((rg.y_max-rg.y_min)/2)\n",
    "im = plt.imshow(acoular.L_p(map_z.T), \n",
    "           vmax=mx, \n",
    "           vmin=mx-15, \n",
    "           origin='lower', \n",
    "           interpolation='nearest', \n",
    "           extent=(rg.x_min, rg.x_max, rg.y_min, rg.y_max))\n",
    "#plt.scatter(0, 0, c='C0',  marker = 'o')\n",
    "if (len(max_pegel_z) > 0):\n",
    "    plt.scatter(x_coord_max_front, y_coord_max_front,  c='red',  marker = 'x')\n",
    "    print(f'Quellposition xy bei x = {x_coord_max_front} / y = {y_coord_max_front}')\n",
    "#if (len(max_pegel_z) > 1):\n",
    "#    for i in range(1,len(max_pegel_z)):\n",
    "#        x_coord_max_front_sec = np.where(Lm_z.T == max_pegel_z[i])[1]*rg.increment-((rg.x_max-rg.x_min)/2)\n",
    "#        y_coord_max_front_sec = np.where(Lm_z.T == max_pegel_z[i])[0]*rg.increment-((rg.y_max-rg.y_min)/2)    \n",
    "#        plt.scatter(x_coord_max_front_sec, y_coord_max_front_sec, c='white',  marker = 'x')\n",
    "plt.xlabel('$x$ / m',fontsize=FONTSIZE)\n",
    "plt.ylabel('$y$ / m',fontsize=FONTSIZE)\n",
    "#plt.title('Front view (xy)' )\n",
    "\n",
    "ax = plt.gca()\n",
    "divider = make_axes_locatable(ax)   \n",
    "cax = divider.append_axes(\"right\", size=\"5%\", pad=0.05)\n",
    "#cbar = fig.colorbar(im, fraction=0.046, pad=0.04)\n",
    "cbar = fig.colorbar(im, cax=cax)\n",
    "cbar.ax.tick_params(labelsize=FONTSIZE)\n",
    "cbar.set_label('$L_p$ / dB', fontsize=FONTSIZE)\n",
    "print(np.max(Lm_z))\n",
    "plt.tight_layout()\n",
    "#plt.savefig('Plots/Praesi/%s_%s%dHz_front.png'%(ts.name[14:21],bandwith,Frequenz), dpi = 300, format='png')\n",
    "plt.savefig('Plots/Praesi/Simuliert_%s%dHz_front.png'%(bandwith,Frequenz), dpi = 300, format='png')\n"
   ]
  },
  {
   "cell_type": "code",
   "execution_count": 191,
   "metadata": {},
   "outputs": [
    {
     "name": "stdout",
     "output_type": "stream",
     "text": [
      "Quellposition xz bei x = [0.08] / z = [0.94]\n",
      "53.12531143768502\n"
     ]
    },
    {
     "data": {
      "image/png": "[encoded data removed]",
      "text/plain": [
       "<Figure size 432x432 with 2 Axes>"
      ]
     },
     "metadata": {
      "needs_background": "light"
     },
     "output_type": "display_data"
    }
   ],
   "source": [
    "fig = plt.figure(figsize=(6,6))\n",
    "map_y = np.sum(pm2,1)\n",
    "if (rg2.y_min == rg2.y_max):\n",
    "    mx = acoular.L_p(map_y.max())\n",
    "Lm_y = acoular.L_p(map_y)\n",
    "\n",
    "max_pegel_y = max_pegel(Lm_y, tolerance) \n",
    "x_coord_max_top = np.where(Lm_y.T == max_pegel_y[0])[1]*rg2.increment-((rg2.x_max-rg2.x_min)/2)\n",
    "y_coord_max_top = np.where(Lm_y.T == max_pegel_y[0])[0]*rg2.increment\n",
    "im = plt.imshow(acoular.L_p(map_y.T), \n",
    "           vmax=mx, \n",
    "           vmin=mx-10, \n",
    "           origin='upper', \n",
    "           interpolation='nearest', \n",
    "           extent=(rg2.x_min, rg2.x_max, rg2.z_max, rg2.z_min))\n",
    "plt.scatter(0, 10, c='C0',  marker = 'o')\n",
    "plt.scatter(x_coord_max_top, y_coord_max_top, c='red',  marker = 'x')\n",
    "print(f'Quellposition xz bei x = {x_coord_max_top} / z = {y_coord_max_top}')\n",
    "\n",
    "# Position of expected virtual sound source\n",
    "plt.xlabel('$x$ / m',fontsize=FONTSIZE)\n",
    "plt.ylabel('$z$ / m',fontsize=FONTSIZE)\n",
    "#plt.title('Top view (xz)' )\n",
    "\n",
    "ax = plt.gca()\n",
    "divider = make_axes_locatable(ax)\n",
    "cax = divider.append_axes(\"right\", size=\"5%\", pad=0.05)\n",
    "#cbar = fig.colorbar(im, fraction=0.046, pad=0.04)\n",
    "cbar = fig.colorbar(im, cax=cax)\n",
    "cbar.ax.tick_params(labelsize=FONTSIZE)\n",
    "cbar.set_label('$L_p$ / dB', fontsize=FONTSIZE)\n",
    "\n",
    "#print(max_pegel_y[0])\n",
    "print(np.max(Lm_y))\n",
    "#print(np.where(Lm_y.T == max_pegel_y[0]))\n",
    "\n",
    "#plt.savefig('Plots/Praesi/%s_%s%dHz_top.png'%(ts.name[14:21],bandwith,Frequenz), dpi = 300, format='png')\n",
    "#plt.savefig('Plots/Praesi/Simulation_%s%dHz_top.png'%(bandwith,Frequenz), dpi = 300, format='png')\n"
   ]
  },
  {
   "cell_type": "code",
   "execution_count": 66,
   "metadata": {},
   "outputs": [],
   "source": [
    "# function calculates max calues of given array\n",
    "def max_pegel (Lm, tol = 10):\n",
    "    Lm_max = sc.signal.argrelmax(Lm)\n",
    "    Lm_rot = np.rot90(Lm)#rotiert Lm um 90 Grad\n",
    "    Lm_rot_max = sc.signal.argrelmax(Lm_rot)\n",
    "\n",
    "    max_values = []\n",
    "    for i in range (len(Lm_max[0])):\n",
    "        max_value = Lm[Lm_max[0][i]][Lm_max[1][i]]\n",
    "\n",
    "        if (max_value >= np.amax(Lm.T) - tol):\n",
    "            max_values.append(max_value)\n",
    "    max_values = np.array(max_values)\n",
    "\n",
    "    max_values_rot = []\n",
    "    for i in range (len(Lm_rot_max[0])):\n",
    "        max_value_rot  = Lm_rot[Lm_rot_max[0][i]][Lm_rot_max[1][i]]\n",
    "\n",
    "        if (max_value_rot  >= np.amax(Lm.T) - tol):\n",
    "            max_values_rot .append(max_value_rot)\n",
    "    max_values_rot  = np.array(max_values_rot)\n",
    "\n",
    "    max_pegel  = []\n",
    "    for i in range (len(max_values)):\n",
    "\n",
    "        if (max_values [i] in max_values_rot):\n",
    "            max_pegel .append(max_values[i])\n",
    "    max_pegel  = np.sort(max_pegel)      \n",
    "    max_pegel  = max_pegel[::-1]\n",
    "    return max_pegel"
   ]
  },
  {
   "cell_type": "code",
   "execution_count": 67,
   "metadata": {},
   "outputs": [],
   "source": [
    "#if (len(max_pegel_y) > 1):\n",
    "    #for i in range(1,len(max_pegel_y)):\n",
    "        #plt.scatter(np.where(Lm_y.T == max_pegel_y[i])[1]*rg2.increment-((rg2.x_max-rg2.x_min)/2), np.where(Lm_y.T == max_pegel_y[i])[0]*rg2.increment,  c='white',  marker = 'x')"
   ]
  }
 ],
 "metadata": {
  "deepnote": {},
  "deepnote_execution_queue": [],
  "deepnote_notebook_id": "d7e0f7a9-3fe4-4f45-8c09-38ce0ca3c0ae",
  "interpreter": {
   "hash": "b3ba2566441a7c06988d0923437866b63cedc61552a5af99d1f4fb67d367b25f"
  },
  "kernelspec": {
   "display_name": "Python 3.8.3 64-bit ('base': conda)",
   "language": "python",
   "name": "python3"
  },
  "language_info": {
   "codemirror_mode": {
    "name": "ipython",
    "version": 3
   },
   "file_extension": ".py",
   "mimetype": "text/x-python",
   "name": "python",
   "nbconvert_exporter": "python",
   "pygments_lexer": "ipython3",
   "version": "3.9.7"
  },
  "orig_nbformat": 4
 },
 "nbformat": 4,
 "nbformat_minor": 2
}
