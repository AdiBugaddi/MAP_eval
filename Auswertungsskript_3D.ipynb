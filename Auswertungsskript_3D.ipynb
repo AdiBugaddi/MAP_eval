{
 "cells": [
  {
   "cell_type": "code",
   "execution_count": 1,
   "metadata": {
    "cell_id": "a8054d3a-a8df-411c-8c45-0f0abd167e98",
    "deepnote_cell_type": "code",
    "deepnote_to_be_reexecuted": false,
    "execution_millis": 4,
    "execution_start": 1642691464099,
    "source_hash": "1627f1b"
   },
   "outputs": [
    {
     "name": "stderr",
     "output_type": "stream",
     "text": [
      "OMP: Info #271: omp_set_nested routine deprecated, please use omp_set_max_active_levels instead.\n"
     ]
    }
   ],
   "source": [
    "import acoular\n",
    "import matplotlib.pyplot as pl\n",
    "import ipywidgets as ipw\n",
    "import numpy as np\n",
    "from glob import glob\n",
    "from os import path\n",
    "import pylab as plt\n",
    "import math as m\n",
    "import mpl_toolkits.mplot3d\n"
   ]
  },
  {
   "cell_type": "code",
   "execution_count": 2,
   "metadata": {},
   "outputs": [],
   "source": [
    "#Einlesen der Micgeo\n",
    "micgeofile = 'mic_geo.xml'\n",
    "mg = acoular.MicGeom(from_file=micgeofile)\n",
    "mg.mpos[0] = - mg.mpos[0] #Spiegeln\n",
    "mg.mpos[0] = mg.mpos[0] + 0.419 #Versatz\n",
    "#print(mg.mpos)\n",
    "\n",
    "#Rotationsmatrix\n",
    "def Rx(theta):\n",
    "  return np.matrix([[ 1, 0           , 0           ],\n",
    "                   [ 0, m.cos(theta),-m.sin(theta)],\n",
    "                   [ 0, m.sin(theta), m.cos(theta)]])\n",
    "\n",
    "for i in range (64):\n",
    "    Punkt = [mg.mpos[0][i],mg.mpos[1][i],mg.mpos[2][i]]\n",
    "    rot = np.array(Punkt * Rx(np.radians(-45)))\n",
    "    #print(rot[0][0])\n",
    "    mg.mpos[0][i] = rot[0][0]\n",
    "    mg.mpos[1][i] = rot[0][1]\n",
    "    mg.mpos[2][i] = rot[0][2]\n",
    "mg.mpos[1] = - mg.mpos[1]\n",
    "\n",
    "#plt.ion()\n",
    "#plt.plot(mg.mpos[2],mg.mpos[1],'o')\n",
    "\n",
    "# Umgebung definieren (Medium, Strömung etc)\n",
    "t = 23.6\n",
    "e = acoular.Environment(c = 20.05*np.sqrt(273+t))"
   ]
  },
  {
   "cell_type": "markdown",
   "metadata": {
    "cell_id": "00001-1940cbd5-1a20-4f3e-b66c-3acb5d563914",
    "deepnote_cell_type": "markdown"
   },
   "source": [
    "Einlesen der Daten:"
   ]
  },
  {
   "cell_type": "code",
   "execution_count": 3,
   "metadata": {},
   "outputs": [
    {
     "data": {
      "text/plain": [
       "'\\nsim_signal1 = acoular.WNoiseGenerator(sample_freq=sfreq, numsamples=nsamples, seed=1)\\n\\nts = acoular.PointSource(signal = sim_signal1,          # Signal der Quelle\\n                   loc = (0, 0.2, 10.0),  # Position der Punktquelle im links-orientierten Koordinatensystem\\n                   mics = mg,            # Mikrofongeometrie, auf der Messdaten erzeugt werden sollen\\n                   env = e)             # Umgebung, in der sich das Schallfeld ausbreitet\\n'"
      ]
     },
     "execution_count": 3,
     "metadata": {},
     "output_type": "execute_result"
    }
   ],
   "source": [
    "#Simuliertes Signal erzeugen\n",
    "sfreq = 51200\n",
    "duration = 1\n",
    "nsamples = duration*sfreq\n",
    "\n",
    "sim_signal1 = acoular.WNoiseGenerator(sample_freq=sfreq, numsamples=nsamples, seed=1)\n",
    "sim_signal2 = acoular.WNoiseGenerator(sample_freq=sfreq, numsamples=nsamples, seed=2)\n",
    "\n",
    "sim_signal = acoular.SineGenerator(sample_freq = sfreq,   # Abtastfrequenz\n",
    "                     numsamples = nsamples,     # Anzahl der Samples, entspricht Messzeit (hier extrem kurz)\n",
    "                     freq = 800,           # Sinusfrequenz\n",
    "                     amplitude = 1.)     \n",
    "\n",
    "sim_ts1 = acoular.PointSource(signal = sim_signal1,          # Signal der Quelle\n",
    "                   loc = (1.5, 0.2, 2.0),  # Position der Punktquelle im links-orientierten Koordinatensystem\n",
    "                   mics = mg,            # Mikrofongeometrie, auf der Messdaten erzeugt werden sollen\n",
    "                   env = e)             # Umgebung, in der sich das Schallfeld ausbreitet\n",
    "sim_ts2 = acoular.PointSource(signal = sim_signal2,          # Signal der Quelle\n",
    "                   loc = (-1.0, 0.2, 1.6),  # Position der Punktquelle im links-orientierten Koordinatensystem\n",
    "                   mics = mg,            # Mikrofongeometrie, auf der Messdaten erzeugt werden sollen\n",
    "                   env = e)             # Umgebung, in der sich das Schallfeld ausbreitet\n",
    "ts = acoular.SourceMixer( sources=[sim_ts1,sim_ts2])\n",
    "'''\n",
    "sim_signal1 = acoular.WNoiseGenerator(sample_freq=sfreq, numsamples=nsamples, seed=1)\n",
    "\n",
    "ts = acoular.PointSource(signal = sim_signal1,          # Signal der Quelle\n",
    "                   loc = (0, 0.2, 10.0),  # Position der Punktquelle im links-orientierten Koordinatensystem\n",
    "                   mics = mg,            # Mikrofongeometrie, auf der Messdaten erzeugt werden sollen\n",
    "                   env = e)             # Umgebung, in der sich das Schallfeld ausbreitet\n",
    "'''"
   ]
  },
  {
   "cell_type": "code",
   "execution_count": 67,
   "metadata": {},
   "outputs": [],
   "source": [
    "#Einlesen der Daten:\n",
    "#ts = acoular.TimeSamples( name='Messungen WFS\\msm_025.h5' )\n",
    "ts = acoular.TimeSamples( name='Messungen_WFS/msm_015.h5' )\n",
    "#ts "
   ]
  },
  {
   "cell_type": "code",
   "execution_count": 85,
   "metadata": {},
   "outputs": [],
   "source": [
    "\n",
    "#Grid erstellen\n",
    "rg = acoular.RectGrid3D(x_min=-2, x_max=2, \n",
    "                       y_min=0.13, y_max=0.13,   #0.13\n",
    "                       z_min=0, z_max=4, \n",
    "                       increment=0.1)\n",
    "\n",
    "#Steering Vector\n",
    "st = acoular.SteeringVector( grid=rg, \n",
    "                             mics=mg, \n",
    "                             #ref=1,     # Tipp von Gert, ref auf 1m, stimmt das so? Und wieso?\n",
    "                             env = e,\n",
    "                             steer_type = 'true location') # ???\n",
    "\n",
    "#Spectrum erstellen:\n",
    "ps = acoular.PowerSpectra( time_data=ts, \n",
    "                           block_size=256,\n",
    "                           freq_range=[3000, 6000],\n",
    "                           window='Hanning' ) # Für bessere Auflösung hier Block_size erhöhen -> höherer Rechnenaufwand, daher jetzt erstmal mit 128\n",
    "\n",
    "\n",
    "bb = acoular.BeamformerBase( freq_data=ps, \n",
    "                             steer=st )"
   ]
  },
  {
   "cell_type": "code",
   "execution_count": 86,
   "metadata": {},
   "outputs": [
    {
     "name": "stdout",
     "output_type": "stream",
     "text": [
      "[('msm_015_cache.h5', 11)]\n",
      "[('msm_015_cache.h5', 12)]\n"
     ]
    }
   ],
   "source": [
    "# 500 1000 2000\n",
    "# 500 630 800 1000 1250 1600 2000 2500 3150 4000 5000 6300 8000 10000 12500 16000 20000\n",
    "Frequenz = 5000\n",
    "pm = bb.synthetic(Frequenz, 3) # 0=Freq, 1=Okt, 3=Terz"
   ]
  },
  {
   "cell_type": "code",
   "execution_count": 87,
   "metadata": {},
   "outputs": [
    {
     "data": {
      "text/plain": [
       "<matplotlib.colorbar.Colorbar at 0x7fbbd8a83970>"
      ]
     },
     "execution_count": 87,
     "metadata": {},
     "output_type": "execute_result"
    },
    {
     "data": {
      "image/png": "[encoded data removed]",
      "text/plain": [
       "<Figure size 576x576 with 2 Axes>"
      ]
     },
     "metadata": {
      "needs_background": "light"
     },
     "output_type": "display_data"
    }
   ],
   "source": [
    "fig=plt.figure(1,(8,8))\n",
    "\n",
    "map_z = np.sum(pm,2)\n",
    "map_y = np.sum(pm,1)\n",
    "map_x = np.sum(pm,0)\n",
    "mx = acoular.L_p(map_z.max())\n",
    "\n",
    "Lm_z = acoular.L_p(map_z)\n",
    "Lm_z_max = np.where(Lm_z == np.amax(Lm_z))\n",
    "Lm_y = acoular.L_p(map_y)\n",
    "Lm_y_max = np.where(Lm_y == np.amax(Lm_y))   \n",
    "Lm_x = acoular.L_p(map_x)\n",
    "Lm_x_max = np.where(Lm_x == np.amax(Lm_x))    \n",
    "\n",
    "#plt.subplot(221)\n",
    "#plt.imshow(Lm_z.T, \n",
    "#           vmax=mx,\n",
    "#           vmin=mx-10, \n",
    "#           origin='lower', \n",
    "#           interpolation='nearest', \n",
    "#           extent=(rg.x_min, rg.x_max, rg.y_min, rg.y_max))\n",
    "#plt.scatter(Lm_z_max[0]*rg.increment-((rg.x_max-rg.x_min)/2),Lm_z_max[1]*rg.increment-((rg.y_max-rg.y_min)/2), s = 60, c='red',  marker = 'x')\n",
    "#plt.xlabel('x')\n",
    "#plt.ylabel('y')\n",
    "#plt.title(f'{Frequenz}Hz_XY')\n",
    "\n",
    "#plt.close(fig)\n",
    "fig=plt.figure(1,(8,8))\n",
    "\n",
    "map_z = np.sum(pm,2)\n",
    "map_y = np.sum(pm,1)\n",
    "map_x = np.sum(pm,0)\n",
    "mx = acoular.L_p(map_z.max())\n",
    "Lm_y = acoular.L_p(map_y)\n",
    "Lm_y_max = np.where(Lm_y == np.amax(Lm_y))   \n",
    "\n",
    "\n",
    "plt.subplot(223)\n",
    "if (rg.y_min == rg.y_max):\n",
    "    mx = acoular.L_p(map_y.max())\n",
    "im = plt.imshow(Lm_y.T, \n",
    "           vmax=mx, vmin=mx-10, \n",
    "           origin='upper', \n",
    "           interpolation='nearest', \n",
    "           extent=(rg.x_min, rg.x_max, rg.z_max, rg.z_min))\n",
    "plt.scatter(Lm_y_max[0]*rg.increment-((rg.x_max-rg.x_min)/2), Lm_y_max[1]*rg.increment, s = 60, c='red',  marker = 'x')\n",
    "plt.xlabel('x')\n",
    "plt.ylabel('z')\n",
    "plt.title(f'{Frequenz}Hz_XZ' )\n",
    "plt.colorbar(im,fraction=0.046, pad=0.04)\n",
    "\n",
    "\n",
    "#plt.subplot(222)\n",
    "#if (rg.x_min == rg.x_max):\n",
    "#    mx = acoular.L_p(map_x.max())\n",
    "#plt.imshow(Lm_x.T, \n",
    "#           vmax=mx, \n",
    "#           vmin=mx-10, \n",
    "#           origin='lower', \n",
    "#           interpolation='nearest', \n",
    "#           extent=(rg.z_min, rg.z_max,rg.y_min, rg.y_max))\n",
    "#plt.scatter(Lm_x_max[0]*rg.increment-((rg.z_max-rg.z_min)/2),Lm_x_max[1]*rg.increment-((rg.y_max-rg.y_min)/2), s = 60, c='red',  marker = 'x')\n",
    "#plt.xlabel('z')\n",
    "#plt.ylabel('y')\n",
    "#plt.title(f'{Frequenz}Hz_ZY')\n",
    "#plt.tight_layout"
   ]
  },
  {
   "cell_type": "code",
   "execution_count": null,
   "metadata": {},
   "outputs": [],
   "source": []
  }
 ],
 "metadata": {
  "deepnote": {},
  "deepnote_execution_queue": [],
  "deepnote_notebook_id": "d7e0f7a9-3fe4-4f45-8c09-38ce0ca3c0ae",
  "interpreter": {
   "hash": "b3ba2566441a7c06988d0923437866b63cedc61552a5af99d1f4fb67d367b25f"
  },
  "kernelspec": {
   "display_name": "Python 3.8.3 64-bit ('base': conda)",
   "language": "python",
   "name": "python3"
  },
  "language_info": {
   "codemirror_mode": {
    "name": "ipython",
    "version": 3
   },
   "file_extension": ".py",
   "mimetype": "text/x-python",
   "name": "python",
   "nbconvert_exporter": "python",
   "pygments_lexer": "ipython3",
   "version": "3.9.7"
  },
  "orig_nbformat": 4
 },
 "nbformat": 4,
 "nbformat_minor": 2
}
