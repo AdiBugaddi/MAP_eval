{
 "cells": [
  {
   "cell_type": "code",
   "execution_count": 12,
   "metadata": {
    "cell_id": "a8054d3a-a8df-411c-8c45-0f0abd167e98",
    "deepnote_cell_type": "code",
    "deepnote_to_be_reexecuted": false,
    "execution_millis": 4,
    "execution_start": 1642691464099,
    "source_hash": "1627f1b"
   },
   "outputs": [],
   "source": [
    "import acoular\n",
    "import matplotlib.pyplot as pl\n",
    "import ipywidgets as ipw\n",
    "import numpy as np\n",
    "from glob import glob\n",
    "from os import path\n",
    "import pylab as plt\n",
    "import math as m\n",
    "import mpl_toolkits.mplot3d\n",
    "import scipy as sc\n"
   ]
  },
  {
   "cell_type": "code",
   "execution_count": 13,
   "metadata": {},
   "outputs": [],
   "source": [
    "#Einlesen der Micgeo\n",
    "micgeofile = 'mic_geo.xml'\n",
    "mg = acoular.MicGeom(from_file=micgeofile)\n",
    "mg.mpos[0] = - mg.mpos[0] #Spiegeln\n",
    "mg.mpos[0] = mg.mpos[0] + 0.419 #Versatz\n",
    "#print(mg.mpos)\n",
    "\n",
    "#Rotationsmatrix\n",
    "def Rx(theta):\n",
    "  return np.matrix([[ 1, 0           , 0           ],\n",
    "                   [ 0, m.cos(theta),-m.sin(theta)],\n",
    "                   [ 0, m.sin(theta), m.cos(theta)]])\n",
    "\n",
    "for i in range (64):\n",
    "    Punkt = [mg.mpos[0][i],mg.mpos[1][i],mg.mpos[2][i]]\n",
    "    rot = np.array(Punkt * Rx(np.radians(-45)))\n",
    "    #print(rot[0][0])\n",
    "    mg.mpos[0][i] = rot[0][0]\n",
    "    mg.mpos[1][i] = rot[0][1]\n",
    "    mg.mpos[2][i] = rot[0][2]\n",
    "mg.mpos[1] = - mg.mpos[1]\n",
    "\n",
    "#plt.ion()\n",
    "#plt.plot(mg.mpos[2],mg.mpos[1],'o')\n",
    "\n",
    "# Umgebung definieren (Medium, Strömung etc)\n",
    "t = 23.6\n",
    "e = acoular.Environment(c = 20.05*np.sqrt(273+t))"
   ]
  },
  {
   "cell_type": "markdown",
   "metadata": {
    "cell_id": "00001-1940cbd5-1a20-4f3e-b66c-3acb5d563914",
    "deepnote_cell_type": "markdown"
   },
   "source": [
    "Einlesen der Daten:"
   ]
  },
  {
   "cell_type": "code",
   "execution_count": 14,
   "metadata": {},
   "outputs": [
    {
     "data": {
      "text/plain": [
       "'\\nsim_signal1 = acoular.WNoiseGenerator(sample_freq=sfreq, numsamples=nsamples, seed=1)\\n\\nts = acoular.PointSource(signal = sim_signal1,          # Signal der Quelle\\n                   loc = (0, 0.2, 10.0),  # Position der Punktquelle im links-orientierten Koordinatensystem\\n                   mics = mg,            # Mikrofongeometrie, auf der Messdaten erzeugt werden sollen\\n                   env = e)             # Umgebung, in der sich das Schallfeld ausbreitet\\n'"
      ]
     },
     "execution_count": 14,
     "metadata": {},
     "output_type": "execute_result"
    }
   ],
   "source": [
    "#Simuliertes Signal erzeugen\n",
    "sfreq = 51200\n",
    "duration = 1\n",
    "nsamples = duration*sfreq\n",
    "\n",
    "sim_signal1 = acoular.WNoiseGenerator(sample_freq=sfreq, numsamples=nsamples, seed=1)\n",
    "sim_signal2 = acoular.WNoiseGenerator(sample_freq=sfreq, numsamples=nsamples, seed=2)\n",
    "\n",
    "sim_signal = acoular.SineGenerator(sample_freq = sfreq,   # Abtastfrequenz\n",
    "                     numsamples = nsamples,     # Anzahl der Samples, entspricht Messzeit (hier extrem kurz)\n",
    "                     freq = 800,           # Sinusfrequenz\n",
    "                     amplitude = 1.)     \n",
    "\n",
    "sim_ts1 = acoular.PointSource(signal = sim_signal1,          # Signal der Quelle\n",
    "                   loc = (1.5, 0.2, 2.0),  # Position der Punktquelle im links-orientierten Koordinatensystem\n",
    "                   mics = mg,            # Mikrofongeometrie, auf der Messdaten erzeugt werden sollen\n",
    "                   env = e)             # Umgebung, in der sich das Schallfeld ausbreitet\n",
    "sim_ts2 = acoular.PointSource(signal = sim_signal2,          # Signal der Quelle\n",
    "                   loc = (-1.0, 0.2, 1.6),  # Position der Punktquelle im links-orientierten Koordinatensystem\n",
    "                   mics = mg,            # Mikrofongeometrie, auf der Messdaten erzeugt werden sollen\n",
    "                   env = e)             # Umgebung, in der sich das Schallfeld ausbreitet\n",
    "ts = acoular.SourceMixer( sources=[sim_ts1,sim_ts2])\n",
    "'''\n",
    "sim_signal1 = acoular.WNoiseGenerator(sample_freq=sfreq, numsamples=nsamples, seed=1)\n",
    "\n",
    "ts = acoular.PointSource(signal = sim_signal1,          # Signal der Quelle\n",
    "                   loc = (0, 0.2, 10.0),  # Position der Punktquelle im links-orientierten Koordinatensystem\n",
    "                   mics = mg,            # Mikrofongeometrie, auf der Messdaten erzeugt werden sollen\n",
    "                   env = e)             # Umgebung, in der sich das Schallfeld ausbreitet\n",
    "'''"
   ]
  },
  {
   "cell_type": "code",
   "execution_count": 79,
   "metadata": {},
   "outputs": [
    {
     "data": {
      "text/plain": [
       "<acoular.sources.TimeSamples at 0x284ecd9c400>"
      ]
     },
     "execution_count": 79,
     "metadata": {},
     "output_type": "execute_result"
    }
   ],
   "source": [
    "#Einlesen der Daten:\n",
    "#ts = acoular.TimeSamples( name='Messungen WFS\\msm_025.h5' )\n",
    "ts = acoular.TimeSamples( name='Messungen WFS/msm_025.h5' )\n",
    "ts "
   ]
  },
  {
   "cell_type": "code",
   "execution_count": 80,
   "metadata": {},
   "outputs": [],
   "source": [
    "\n",
    "#Grid erstellen\n",
    "rg = acoular.RectGrid3D(x_min=-5, x_max=5, \n",
    "                       y_min=-2, y_max=2, \n",
    "                       z_min=2, z_max=2, \n",
    "                       increment=0.05)\n",
    "\n",
    "#Steering Vector\n",
    "st = acoular.SteeringVector( grid=rg, \n",
    "                             mics=mg, \n",
    "                             #ref=1,     # Tipp von Gert, ref auf 1m, stimmt das so? Und wieso?\n",
    "                             env = e,\n",
    "                             steer_type = 'true location') # ???\n",
    "\n",
    "#Spectrum erstellen:\n",
    "ps = acoular.PowerSpectra( time_data=ts, \n",
    "                           block_size=512,\n",
    "                           freq_range=[1000, 2500],\n",
    "                           window='Hanning' ) # Für bessere Auflösung hier Block_size erhöhen -> höherer Rechnenaufwand, daher jetzt erstmal mit 128\n",
    "\n",
    "\n",
    "bb = acoular.BeamformerBase( freq_data=ps, \n",
    "                             steer=st )\n",
    "\n",
    "                             #Grid erstellen\n",
    "rg2 = acoular.RectGrid3D(x_min=-5, x_max=5, \n",
    "                       y_min=0.13, y_max=0.13, \n",
    "                       z_min=0, z_max=5, \n",
    "                       increment=0.05)\n",
    "\n",
    "#Steering Vector\n",
    "st2 = acoular.SteeringVector(grid=rg2, \n",
    "                             mics=mg, \n",
    "                             #ref=1,     # Tipp von Gert, ref auf 1m, stimmt das so? Und wieso?\n",
    "                             env = e,\n",
    "                             steer_type = 'true location') # ???\n",
    "\n",
    "#Spectrum erstellen:\n",
    "ps2 = acoular.PowerSpectra(time_data=ts, \n",
    "                           block_size=512,\n",
    "                           freq_range=[1000, 2500],\n",
    "                           window='Hanning' ) # Für bessere Auflösung hier Block_size erhöhen -> höherer Rechnenaufwand, daher jetzt erstmal mit 128\n",
    "\n",
    "\n",
    "bb2 = acoular.BeamformerBase(freq_data=ps2, \n",
    "                             steer=st2 )\n",
    "\n"
   ]
  },
  {
   "cell_type": "code",
   "execution_count": 81,
   "metadata": {},
   "outputs": [],
   "source": [
    "#ps.fftfreq()"
   ]
  },
  {
   "cell_type": "code",
   "execution_count": 82,
   "metadata": {},
   "outputs": [
    {
     "name": "stdout",
     "output_type": "stream",
     "text": [
      "[('msm_025_cache.h5', 1)]\n",
      "[('msm_025_cache.h5', 2)]\n",
      "[('msm_025_cache.h5', 3)]\n",
      "[('msm_025_cache.h5', 4)]\n"
     ]
    }
   ],
   "source": [
    "# 500 1000 2000\n",
    "# 500 630 800 1000 1250 1600 2000 2500 3150 4000 5000 6300 8000 10000 12500 16000 20000\n",
    "\n",
    "Frequenz = 1000\n",
    "tolerance = 10\n",
    "pm = bb.synthetic(Frequenz, 0)\n",
    "pm2 = bb2.synthetic(Frequenz, 0)\n",
    " # 0=Freq, 1=Okt, 3=Terz\n",
    "#Lm = acoular.L_p( pm )\n",
    "#Lm = (Lm[0:],Lm[1:])"
   ]
  },
  {
   "cell_type": "code",
   "execution_count": 83,
   "metadata": {},
   "outputs": [
    {
     "name": "stdout",
     "output_type": "stream",
     "text": [
      "Quellposition xy bei x = [-0.05] / y = [0.25]\n",
      "Quellposition xz bei x = [-0.05] / z = [1.6]\n"
     ]
    },
    {
     "data": {
      "text/plain": [
       "Text(0.5, 1.0, 'Side view (xz)')"
      ]
     },
     "execution_count": 83,
     "metadata": {},
     "output_type": "execute_result"
    },
    {
     "data": {
      "image/png": "[encoded data removed]",
      "text/plain": [
       "<Figure size 1440x1440 with 3 Axes>"
      ]
     },
     "metadata": {
      "needs_background": "light"
     },
     "output_type": "display_data"
    }
   ],
   "source": [
    "fig=plt.figure(1,(20,20))\n",
    "\n",
    "# plot the results\n",
    "\n",
    "plt.subplot(221)\n",
    "map_z = np.sum(pm,2)\n",
    "mx = acoular.L_p(map_z.max())\n",
    "Lm_z = acoular.L_p(map_z)\n",
    "Lm_z_rot = np.rot90(Lm_z)#rotiert Lm um 90 Grad\n",
    "\n",
    "Lm_z_max = sc.signal.argrelmax(Lm_z)\n",
    "Lm_z_rot_max = sc.signal.argrelmax(Lm_z_rot)\n",
    "\n",
    "\n",
    "max_values_z = []\n",
    "for i in range (len(Lm_z_max[0])):\n",
    "    max_value_z = Lm_z[Lm_z_max[0][i]][Lm_z_max[1][i]]\n",
    "\n",
    "    if (max_value_z >= np.amax(Lm_z.T) - tolerance):\n",
    "        max_values_z.append(max_value_z)\n",
    "max_values_z = np.array(max_values_z)\n",
    "\n",
    "max_values_rot_z = []\n",
    "for i in range (len(Lm_z_rot_max[0])):\n",
    "    max_value_rot_z  = Lm_z_rot[Lm_z_rot_max[0][i]][Lm_z_rot_max[1][i]]\n",
    "\n",
    "    if (max_value_rot_z  >= np.amax(Lm_z.T) - tolerance):\n",
    "        max_values_rot_z .append(max_value_rot_z)\n",
    "max_values_rot_z  = np.array(max_values_rot_z)\n",
    "\n",
    "max_pegel_z  = []\n",
    "for i in range (len(max_values_z)):\n",
    "    \n",
    "    if (max_values_z [i] in max_values_rot_z):\n",
    "        max_pegel_z .append(max_values_z[i])\n",
    "max_pegel_z  = np.sort(max_pegel_z)      \n",
    "max_pegel_z  = max_pegel_z[::-1]\n",
    "plt.imshow(acoular.L_p(map_z.T), vmax=mx, vmin=mx-15, origin='lower', interpolation='nearest', \n",
    "       extent=(rg.x_min, rg.x_max, rg.y_min, rg.y_max))\n",
    "plt.scatter(np.where(Lm_z.T == max_pegel_z[0])[1]*rg.increment-((rg.x_max-rg.x_min)/2),np.where(Lm_z.T == max_pegel_z[0])[0]*rg.increment-((rg.y_max-rg.y_min)/2),  c='red',  marker = 'x')\n",
    "print(f'Quellposition xy bei x = {np.where(Lm_z.T == max_pegel_z[0])[1]*rg.increment-((rg.x_max-rg.x_min)/2)} / y = {np.where(Lm_z.T == max_pegel_z[0])[0]*rg.increment-((rg.y_max-rg.y_min)/2)}')\n",
    "for i in range(1,len(max_pegel_z)):\n",
    "    plt.scatter(np.where(Lm_z.T == max_pegel_z[i])[1]*rg.increment-((rg.x_max-rg.x_min)/2),np.where(Lm_z.T == max_pegel_z[i])[0]*rg.increment-((rg.y_max-rg.y_min)/2),  c='white',  marker = 'x')\n",
    "plt.xlabel('x')\n",
    "plt.ylabel('y')\n",
    "plt.title('Top view (xy)' )\n",
    "plt.colorbar()\n",
    "\n",
    "plt.subplot(223)\n",
    "map_y = np.sum(pm2,1)\n",
    "if (rg2.y_min == rg2.y_max):\n",
    "       mx = acoular.L_p(map_y.max())\n",
    "Lm_y = acoular.L_p(map_y)\n",
    "Lm_y_rot = np.rot90(Lm_y)#rotiert Lm um 90 Grad\n",
    "\n",
    "Lm_y_max = sc.signal.argrelmax(Lm_y)\n",
    "Lm_y_rot_max = sc.signal.argrelmax(Lm_y_rot)\n",
    "\n",
    "\n",
    "max_values_y = []\n",
    "for i in range (len(Lm_y_max[0])):\n",
    "    max_value_y = Lm_y[Lm_y_max[0][i]][Lm_y_max[1][i]]\n",
    "\n",
    "    if (max_value_y >= np.amax(Lm_y.T) - tolerance):\n",
    "        max_values_y.append(max_value_y)\n",
    "max_values_y = np.array(max_values_y)\n",
    "\n",
    "max_values_rot_y = []\n",
    "for i in range(len(Lm_y_rot_max[0])):\n",
    "    max_value_rot_y = Lm_y_rot[Lm_y_rot_max[0][i]][Lm_y_rot_max[1][i]]\n",
    "\n",
    "    if (max_value_rot_y >= np.amax(Lm_y.T) - tolerance):\n",
    "        max_values_rot_y .append(max_value_rot_y)\n",
    "max_values_rot_y = np.array(max_values_rot_y)\n",
    "\n",
    "max_pegel_y = []\n",
    "for i in range(len(max_values_y)):\n",
    "\n",
    "    if (max_values_y[i] in max_values_rot_y):\n",
    "        max_pegel_y .append(max_values_y[i])\n",
    "max_pegel_y = np.sort(max_pegel_y)\n",
    "max_pegel_y = max_pegel_y[::-1]\n",
    "plt.imshow(acoular.L_p(map_y.T), vmax=mx, vmin=mx-10, origin='upper', interpolation='nearest', \n",
    "       extent=(rg2.x_min, rg2.x_max, rg2.z_max, rg2.z_min))\n",
    "plt.scatter(np.where(Lm_y.T == max_pegel_y[0])[1]*rg.increment-((rg.x_max-rg.x_min)/2),np.where(Lm_y.T == max_pegel_y[0])[0]*rg.increment,  c='red',  marker = 'x')\n",
    "print(f'Quellposition xz bei x = {np.where(Lm_y.T == max_pegel_y[0])[1]*rg.increment-((rg.x_max-rg.x_min)/2)} / z = {np.where(Lm_y.T == max_pegel_y[0])[0]*rg.increment}')\n",
    "for i in range(1,len(max_pegel_z)):\n",
    "    plt.scatter(np.where(Lm_y.T == max_pegel_y[i])[1]*rg.increment-((rg.x_max-rg.x_min)/2),np.where(Lm_y.T == max_pegel_y[i])[0]*rg.increment,  c='white',  marker = 'x')\n",
    "plt.xlabel('x')\n",
    "plt.ylabel('z')\n",
    "plt.title('Side view (xz)' )\n",
    "\n",
    "\n"
   ]
  },
  {
   "cell_type": "code",
   "execution_count": null,
   "metadata": {},
   "outputs": [],
   "source": []
  },
  {
   "cell_type": "code",
   "execution_count": null,
   "metadata": {},
   "outputs": [],
   "source": []
  },
  {
   "cell_type": "code",
   "execution_count": null,
   "metadata": {},
   "outputs": [],
   "source": []
  },
  {
   "cell_type": "code",
   "execution_count": null,
   "metadata": {},
   "outputs": [],
   "source": []
  }
 ],
 "metadata": {
  "deepnote": {},
  "deepnote_execution_queue": [],
  "deepnote_notebook_id": "d7e0f7a9-3fe4-4f45-8c09-38ce0ca3c0ae",
  "interpreter": {
   "hash": "b3ba2566441a7c06988d0923437866b63cedc61552a5af99d1f4fb67d367b25f"
  },
  "kernelspec": {
   "display_name": "Python 3.8.3 64-bit ('base': conda)",
   "language": "python",
   "name": "python3"
  },
  "language_info": {
   "codemirror_mode": {
    "name": "ipython",
    "version": 3
   },
   "file_extension": ".py",
   "mimetype": "text/x-python",
   "name": "python",
   "nbconvert_exporter": "python",
   "pygments_lexer": "ipython3",
   "version": "3.8.3"
  },
  "orig_nbformat": 4
 },
 "nbformat": 4,
 "nbformat_minor": 2
}
