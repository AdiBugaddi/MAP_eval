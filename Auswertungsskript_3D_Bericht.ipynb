{
 "cells": [
  {
   "cell_type": "code",
   "execution_count": 1,
   "metadata": {
    "cell_id": "a8054d3a-a8df-411c-8c45-0f0abd167e98",
    "deepnote_cell_type": "code",
    "deepnote_to_be_reexecuted": false,
    "execution_millis": 4,
    "execution_start": 1642691464099,
    "source_hash": "1627f1b"
   },
   "outputs": [
    {
     "name": "stderr",
     "output_type": "stream",
     "text": [
      "OMP: Info #271: omp_set_nested routine deprecated, please use omp_set_max_active_levels instead.\n"
     ]
    }
   ],
   "source": [
    "import acoular\n",
    "import matplotlib.pyplot as pl\n",
    "import ipywidgets as ipw\n",
    "import numpy as np\n",
    "from glob import glob\n",
    "from os import path\n",
    "import pylab as plt\n",
    "import math as m\n",
    "import mpl_toolkits.mplot3d\n",
    "from mpl_toolkits.axes_grid1 import make_axes_locatable\n",
    "from matplotlib.ticker import StrMethodFormatter, NullFormatter\n",
    "import scipy as sc\n"
   ]
  },
  {
   "cell_type": "code",
   "execution_count": 2,
   "metadata": {},
   "outputs": [],
   "source": [
    "# Einlesen der Micgeo\n",
    "micgeofile = 'mic_geo.xml'\n",
    "mg = acoular.MicGeom(from_file=micgeofile)\n",
    "mg.mpos[0] = - mg.mpos[0] #Spiegeln\n",
    "mg.mpos[0] = mg.mpos[0] + 0.419 #Versatz\n",
    "#print(mg.mpos)\n",
    "\n",
    "# Rotationsmatrix\n",
    "def Rx(theta):\n",
    "  return np.matrix([[ 1, 0           , 0           ],\n",
    "                    [ 0, m.cos(theta),-m.sin(theta)],\n",
    "                    [ 0, m.sin(theta), m.cos(theta)]])\n",
    "                   \n",
    "for i in range (64):\n",
    "    Punkt = [mg.mpos[0][i],mg.mpos[1][i],mg.mpos[2][i]]\n",
    "    rot = np.array(Punkt * Rx(np.radians(-40))) # radians -> rotation angle \n",
    "    #print(rot[0][0])\n",
    "    mg.mpos[0][i] = rot[0][0]\n",
    "    mg.mpos[1][i] = rot[0][1]\n",
    "    mg.mpos[2][i] = rot[0][2]\n",
    "mg.mpos[1] = - mg.mpos[1]\n",
    "\n",
    "# plt.ion()\n",
    "#plt.plot(mg.mpos[2],mg.mpos[1],'o')\n",
    "\n",
    "# Umgebung definieren (Medium, Strömung etc)\n",
    "t = 23.6\n",
    "e = acoular.Environment(c = 20.05*np.sqrt(273+t))"
   ]
  },
  {
   "cell_type": "markdown",
   "metadata": {
    "cell_id": "00001-1940cbd5-1a20-4f3e-b66c-3acb5d563914",
    "deepnote_cell_type": "markdown"
   },
   "source": [
    "Einlesen der Daten:"
   ]
  },
  {
   "cell_type": "code",
   "execution_count": 3,
   "metadata": {},
   "outputs": [
    {
     "data": {
      "text/plain": [
       "'\\nsim_signal1 = acoular.WNoiseGenerator(sample_freq=sfreq, numsamples=nsamples, seed=1)\\n\\nts = acoular.PointSource(signal = sim_signal1,          # Signal der Quelle\\n                   loc = (0, 0.2, 10.0),  # Position der Punktquelle im links-orientierten Koordinatensystem\\n                   mics = mg,            # Mikrofongeometrie, auf der Messdaten erzeugt werden sollen\\n                   env = e)             # Umgebung, in der sich das Schallfeld ausbreitet\\n'"
      ]
     },
     "execution_count": 3,
     "metadata": {},
     "output_type": "execute_result"
    }
   ],
   "source": [
    "#Simuliertes Signal erzeugen\n",
    "sfreq = 51200\n",
    "duration = 1\n",
    "nsamples = duration*sfreq\n",
    "\n",
    "sim_signal1 = acoular.WNoiseGenerator(sample_freq=sfreq, numsamples=nsamples, seed=1)\n",
    "sim_signal2 = acoular.WNoiseGenerator(sample_freq=sfreq, numsamples=nsamples, seed=2)\n",
    "\n",
    "sim_signal = acoular.SineGenerator(sample_freq = sfreq,   # Abtastfrequenz\n",
    "                     numsamples = nsamples,     # Anzahl der Samples, entspricht Messzeit (hier extrem kurz)\n",
    "                     freq = 800,           # Sinusfrequenz\n",
    "                     amplitude = 1.)     \n",
    "\n",
    "sim_ts1 = acoular.PointSource(signal = sim_signal1,          # Signal der Quelle\n",
    "                   loc = (0, 0, 2.0),  # Position der Punktquelle im links-orientierten Koordinatensystem\n",
    "                   mics = mg,            # Mikrofongeometrie, auf der Messdaten erzeugt werden sollen\n",
    "                   env = e)             # Umgebung, in der sich das Schallfeld ausbreitet\n",
    "#sim_ts2 = acoular.PointSource(signal = sim_signal2,          # Signal der Quelle\n",
    "#                   loc = (-5.0, 0, 1.5),  # Position der Punktquelle im links-orientierten Koordinatensystem\n",
    "#                   mics = mg,            # Mikrofongeometrie, auf der Messdaten erzeugt werden sollen\n",
    "#                   env = e)             # Umgebung, in der sich das Schallfeld ausbreitet\n",
    "ts = acoular.SourceMixer( sources=[sim_ts1])\n",
    "'''\n",
    "sim_signal1 = acoular.WNoiseGenerator(sample_freq=sfreq, numsamples=nsamples, seed=1)\n",
    "\n",
    "ts = acoular.PointSource(signal = sim_signal1,          # Signal der Quelle\n",
    "                   loc = (0, 0.2, 10.0),  # Position der Punktquelle im links-orientierten Koordinatensystem\n",
    "                   mics = mg,            # Mikrofongeometrie, auf der Messdaten erzeugt werden sollen\n",
    "                   env = e)             # Umgebung, in der sich das Schallfeld ausbreitet\n",
    "'''"
   ]
  },
  {
   "cell_type": "code",
   "execution_count": 4,
   "metadata": {},
   "outputs": [],
   "source": [
    "#Einlesen der Daten:\n",
    "#ts = acoular.TimeSamples( name='Messungen WFS\\msm_025.h5' )\n",
    "ts = acoular.TimeSamples( name='Messungen_WFS/msm_015.h5')\n",
    "#ts_real = acoular.TimeSamples( name='Messungen_WFS/msm_025.h5')\n",
    "\n",
    "\n",
    "source_pos = [0,0,2]"
   ]
  },
  {
   "cell_type": "code",
   "execution_count": 5,
   "metadata": {},
   "outputs": [],
   "source": [
    "#Grid erstellen\n",
    "\n",
    "focus_plane = 2\n",
    "x_range = 3     # times two -> around 0\n",
    "y_range = 2     # times two -> around 0\n",
    "z_range = 6     # from 0\n",
    "incrmt = 0.1\n",
    "blocksize = 4096\n",
    "f_min = 200\n",
    "f_max = 10000\n",
    "\n",
    "rg = acoular.RectGrid3D(x_min=-x_range, x_max=x_range, \n",
    "                       y_min=-y_range, y_max=y_range, \n",
    "                       z_min=focus_plane, z_max=focus_plane, \n",
    "                       increment=incrmt)\n",
    "              \n",
    "#Steering Vector\n",
    "st = acoular.SteeringVector( grid=rg, \n",
    "                             mics=mg, \n",
    "                             #ref=1,     # Tipp von Gert, ref auf 1m, stimmt das so? Und wieso?\n",
    "                             env = e,\n",
    "                             steer_type = 'true location') # ???\n",
    "\n",
    "#Spectrum erstellen:\n",
    "ps = acoular.PowerSpectra( time_data=ts, \n",
    "                           block_size=blocksize,\n",
    "                           freq_range=[f_min, f_max],\n",
    "                           window='Hanning' ) # Für bessere Auflösung hier Block_size erhöhen -> höherer Rechnenaufwand, daher jetzt erstmal mit 128\n",
    "\n",
    "\n",
    "bb = acoular.BeamformerBase( freq_data=ps, \n",
    "                             steer=st )\n",
    "\n",
    "                             #Grid erstellen\n",
    "\n",
    "\n",
    "#==========================================Reale Schallquelle=========================              \n",
    "#rg_real = acoular.RectGrid3D(x_min=-x_range, x_max=x_range, \n",
    "#                       y_min=-y_range, y_max=y_range, \n",
    "#                       z_min=focus_plane, z_max=focus_plane, \n",
    "#                       increment=incrmt)\n",
    "#\n",
    "##Steering Vector\n",
    "#st_real = acoular.SteeringVector( grid=rg_real, \n",
    "#                             mics=mg, \n",
    "#                             #ref=1,     # Tipp von Gert, ref auf 1m, stimmt das so? Und wieso?\n",
    "#                             env = e,\n",
    "#                             steer_type = 'true location') # ???\n",
    "#\n",
    "##Spectrum erstellen:\n",
    "#ps_real = acoular.PowerSpectra( time_data=ts_real, \n",
    "#                           block_size=blocksize,\n",
    "#                           freq_range=[f_min, f_max],\n",
    "#                           window='Hanning' ) # Für bessere Auflösung hier Block_size erhöhen -> höherer Rechnenaufwand, daher jetzt erstmal mit 128\n",
    "#\n",
    "#\n",
    "#bb_real = acoular.BeamformerBase( freq_data=ps_real, \n",
    "#                             steer=st_real )\n",
    "#\n",
    "#                             #Grid erstellen\n",
    "#\n",
    " #=================== TOP VIEW =====================                            \n",
    "rg2 = acoular.RectGrid3D(x_min=-x_range, x_max=x_range, \n",
    "                       y_min=0, y_max=0, \n",
    "                       z_min=0, z_max=z_range, \n",
    "                       increment=incrmt)\n",
    "\n",
    "#Steering Vector\n",
    "st2 = acoular.SteeringVector(grid=rg2, \n",
    "                             mics=mg, \n",
    "                             #ref=1,     # Tipp von Gert, ref auf 1m, stimmt das so? Und wieso?\n",
    "                             env = e,\n",
    "                             steer_type = 'true location') # ???\n",
    "\n",
    "#Spectrum erstellen:\n",
    "ps2 = acoular.PowerSpectra(time_data=ts, \n",
    "                           block_size=blocksize,\n",
    "                           freq_range=[f_min, f_max],\n",
    "                           window='Hanning' ) # Für bessere Auflösung hier Block_size erhöhen -> höherer Rechnenaufwand, daher jetzt erstmal mit 128\n",
    "\n",
    "\n",
    "bb2 = acoular.BeamformerBase(freq_data=ps2, \n",
    "                             steer=st2 )\n",
    "\n",
    "\n",
    "\n"
   ]
  },
  {
   "cell_type": "code",
   "execution_count": 6,
   "metadata": {},
   "outputs": [
    {
     "name": "stdout",
     "output_type": "stream",
     "text": [
      "[('msm_015_cache.h5', 1)]\n"
     ]
    }
   ],
   "source": [
    "# 200 250 315 400 500 630 800 1000 1250 1600 2000 2500 3150 4000 5000 6300 8000 10000 12500 16000 20000\n",
    "\n",
    "bandwidth_dict = {\n",
    "  \"Freq\": 0,\n",
    "  \"Okt\": 1,\n",
    "  \"Terz\": 3\n",
    "}\n",
    "\n",
    "bandwith = 'Terz'\n",
    "Frequenz =  1000\n",
    "tolerance = 1\n",
    "\n",
    "pm = bb.synthetic(Frequenz, bandwidth_dict[bandwith])\n",
    "#pm2 = bb2.synthetic(Frequenz, bandwidth_dict[bandwith])\n",
    "#pm_real = bb_real.synthetic(Frequenz, bandwidth_dict[bandwith])\n",
    " # 0=Freq, 1=Okt, 3=Terz"
   ]
  },
  {
   "cell_type": "code",
   "execution_count": 7,
   "metadata": {},
   "outputs": [],
   "source": [
    "# function calculates max calues of given array\n",
    "def max_pegel (Lm, tol = 10):\n",
    "    Lm_max = sc.signal.argrelmax(Lm)\n",
    "    Lm_rot = np.rot90(Lm)#rotiert Lm um 90 Grad\n",
    "    Lm_rot_max = sc.signal.argrelmax(Lm_rot)\n",
    "\n",
    "    max_values = []\n",
    "    for i in range (len(Lm_max[0])):\n",
    "        max_value = Lm[Lm_max[0][i]][Lm_max[1][i]]\n",
    "\n",
    "        if (max_value >= np.amax(Lm.T) - tol):\n",
    "            max_values.append(max_value)\n",
    "    max_values = np.array(max_values)\n",
    "\n",
    "    max_values_rot = []\n",
    "    for i in range (len(Lm_rot_max[0])):\n",
    "        max_value_rot  = Lm_rot[Lm_rot_max[0][i]][Lm_rot_max[1][i]]\n",
    "\n",
    "        if (max_value_rot  >= np.amax(Lm.T) - tol):\n",
    "            max_values_rot .append(max_value_rot)\n",
    "    max_values_rot  = np.array(max_values_rot)\n",
    "\n",
    "    max_pegel  = []\n",
    "    for i in range (len(max_values)):\n",
    "\n",
    "        if (max_values [i] in max_values_rot):\n",
    "            max_pegel .append(max_values[i])\n",
    "    max_pegel  = np.sort(max_pegel)      \n",
    "    max_pegel  = max_pegel[::-1]\n",
    "    return max_pegel\n",
    "\n",
    "def get_euclidian_dist(x1,x2,y1,y2,z1=0,z2=0):\n",
    "    euclidian_dist = np.sqrt((x2-x1)**2+(y2-y1)**2+(z2-z1)**2)\n",
    "    return euclidian_dist"
   ]
  },
  {
   "cell_type": "code",
   "execution_count": null,
   "metadata": {},
   "outputs": [],
   "source": []
  },
  {
   "cell_type": "code",
   "execution_count": 8,
   "metadata": {},
   "outputs": [
    {
     "name": "stdout",
     "output_type": "stream",
     "text": [
      "Quellposition xy bei x = [0.1] / y = [0.]\n",
      "52.63097044808059\n"
     ]
    },
    {
     "data": {
      "image/png": "[encoded data removed]",
      "text/plain": [
       "<Figure size 266.4x201.6 with 2 Axes>"
      ]
     },
     "metadata": {
      "needs_background": "light"
     },
     "output_type": "display_data"
    }
   ],
   "source": [
    "FONTSIZE = 12\n",
    "fig=plt.figure(1,(3.7,2.8))\n",
    "map_z = np.sum(pm,2)\n",
    "mx = acoular.L_p(map_z.max())\n",
    "Lm_z = acoular.L_p(map_z)\n",
    "max_pegel_z = max_pegel(Lm_z, tolerance)\n",
    "x_coord_max_front = np.where(Lm_z.T == max_pegel_z[0])[1]*rg.increment-((rg.x_max-rg.x_min)/2)\n",
    "y_coord_max_front = np.where(Lm_z.T == max_pegel_z[0])[0]*rg.increment-((rg.y_max-rg.y_min)/2)\n",
    "im = plt.imshow(acoular.L_p(map_z.T), \n",
    "           vmax=mx, \n",
    "           vmin=mx-15, \n",
    "           origin='lower', \n",
    "           interpolation='nearest', \n",
    "           extent=(rg.x_min, rg.x_max, rg.y_min, rg.y_max))\n",
    "#plt.scatter(0, 0, c='C0',  marker = 'o')\n",
    "plt.scatter(source_pos[0], source_pos[1], c='black',  marker = 'o')\n",
    "if (len(max_pegel_z) > 0):\n",
    "    plt.scatter(x_coord_max_front, y_coord_max_front,  c='red',  marker = 'x')\n",
    "    print(f'Quellposition xy bei x = {x_coord_max_front} / y = {y_coord_max_front}')\n",
    "#if (len(max_pegel_z) > 1):\n",
    "#    for i in range(1,len(max_pegel_z)):\n",
    "#        x_coord_max_front_sec = np.where(Lm_z.T == max_pegel_z[i])[1]*rg.increment-((rg.x_max-rg.x_min)/2)\n",
    "#        y_coord_max_front_sec = np.where(Lm_z.T == max_pegel_z[i])[0]*rg.increment-((rg.y_max-rg.y_min)/2)    \n",
    "#        plt.scatter(x_coord_max_front_sec, y_coord_max_front_sec, c='white',  marker = 'x')\n",
    "plt.xlabel('$x$ / m',fontsize=FONTSIZE)\n",
    "plt.ylabel('$y$ / m',fontsize=FONTSIZE)\n",
    "#plt.title('Front view (xy)' )\n",
    "\n",
    "ax = plt.gca()\n",
    "divider = make_axes_locatable(ax)   \n",
    "cax = divider.append_axes(\"right\", size=\"5%\", pad=0.05)\n",
    "#cbar = fig.colorbar(im, fraction=0.046, pad=0.04)\n",
    "cbar = fig.colorbar(im, cax=cax)\n",
    "cbar.ax.tick_params(labelsize=FONTSIZE)\n",
    "cbar.set_label('$L_p$ / dB', fontsize=FONTSIZE)\n",
    "print(np.max(Lm_z))\n",
    "plt.tight_layout()\n",
    "#plt.savefig('Plots/Praesi/%s_%s%dHz_front.png'%(ts.name[14:21],bandwith,Frequenz), dpi = 300, format='png')\n",
    "#plt.savefig('Plots/Praesi/Simuliert_%s%dHz_front.png'%(bandwith,Frequenz), dpi = 300, format='png')\n"
   ]
  },
  {
   "cell_type": "code",
   "execution_count": 9,
   "metadata": {},
   "outputs": [
    {
     "name": "stderr",
     "output_type": "stream",
     "text": [
      "/var/folders/vt/7kjpwdgs64549p0v6331n9wr0000gn/T/ipykernel_2213/1068831507.py:10: Warning: Beamforming result may not have been calculated for all queried frequencies. Check freq_data.ind_low and freq_data.ind_high!\n",
      "  pm = bb.synthetic(freq, bandwidth_dict[bandwith])\n"
     ]
    }
   ],
   "source": [
    "\n",
    "dist_x_y = []\n",
    "amount_sidelobes = []\n",
    "\n",
    "dist_x_y_real = []\n",
    "amount_sidelobes_real = []\n",
    "\n",
    "freq_max_minus = 100\n",
    "\n",
    "for freq in range (f_min,f_max-freq_max_minus):\n",
    "    pm = bb.synthetic(freq, bandwidth_dict[bandwith])\n",
    "    map_z = np.sum(pm,2)\n",
    "    mx = acoular.L_p(map_z.max())\n",
    "    Lm_z = acoular.L_p(map_z)\n",
    "    max_pegel_z = max_pegel(Lm_z, tolerance)\n",
    "    if (len(max_pegel_z) > 0):\n",
    "        x_coord_max_front = np.where(Lm_z.T == max_pegel_z[0])[1]*rg.increment-((rg.x_max-rg.x_min)/2)\n",
    "        y_coord_max_front = np.where(Lm_z.T == max_pegel_z[0])[0]*rg.increment-((rg.y_max-rg.y_min)/2)\n",
    "        dist_x_y.append(get_euclidian_dist(x_coord_max_front, source_pos[0],y_coord_max_front,source_pos[0]))\n",
    "        amount_sidelobes.append(len(max_pegel_z)-1)\n",
    "    \n",
    "    else:\n",
    "        dist_x_y.append(None)\n",
    "        amount_sidelobes.append(None)\n",
    "\n",
    "#for freq in range (f_min,f_max-freq_max_minus):\n",
    "#    pm_real = bb_real.synthetic(freq, bandwidth_dict[bandwith])\n",
    "#    map_z = np.sum(pm_real,2)\n",
    "#    mx = acoular.L_p(map_z.max())\n",
    "#    Lm_z = acoular.L_p(map_z)\n",
    "#    max_pegel_z = max_pegel(Lm_z, tolerance)\n",
    "#    if (len(max_pegel_z) > 0):\n",
    "#        x_coord_max_front = np.where(Lm_z.T == max_pegel_z[0])[1]*rg.increment-((rg.x_max-rg.x_min)/2)\n",
    "#        y_coord_max_front = np.where(Lm_z.T == max_pegel_z[0])[0]*rg.increment-((rg.y_max-rg.y_min)/2)\n",
    "#        dist_x_y_real.append(get_euclidian_dist(x_coord_max_front, source_pos[0],y_coord_max_front,source_pos[0]))\n",
    "#        amount_sidelobes_real.append(len(max_pegel_z)-1)\n",
    "#    \n",
    "#    else:\n",
    "#        dist_x_y_real.append(None)\n",
    "#        amount_sidelobes_real.append(None)\n",
    "\n",
    "\n",
    "\n"
   ]
  },
  {
   "cell_type": "code",
   "execution_count": 10,
   "metadata": {},
   "outputs": [
    {
     "data": {
      "image/png": "[encoded data removed]",
      "text/plain": [
       "<Figure size 576x216 with 1 Axes>"
      ]
     },
     "metadata": {
      "needs_background": "light"
     },
     "output_type": "display_data"
    }
   ],
   "source": [
    "FONTSIZE = 11\n",
    "\n",
    "x_labels = [50,100,400,1000,5000,10000,20000]\n",
    "y_labels = [0,100,200,300,400,500]\n",
    "\n",
    "freq_plot = np.arange(f_min,f_max-freq_max_minus)\n",
    "fig, ax = plt.subplots(1,1, figsize =(8,3))\n",
    "\n",
    "ax.plot(freq_plot, amount_sidelobes, color='midnightblue' )\n",
    "#ax.plot(freq_plot, amount_sidelobes_real, color='firebrick' )\n",
    "ax.set_xscale('log')\n",
    "ax.axis([50,20000,0,500])\n",
    "ax.set_xticks(x_labels)\n",
    "ax.set_yticks(y_labels)\n",
    "ax.set_xticklabels(x_labels, fontsize = FONTSIZE)\n",
    "ax.set_yticklabels(y_labels, fontsize = FONTSIZE)\n",
    "#ax.set_title('Distance real - found')\n",
    "ax.xaxis.set_major_formatter(StrMethodFormatter('{x:.0f}'))\n",
    "ax.xaxis.set_minor_formatter(NullFormatter())\n",
    "ax.grid(b=True, which='Major', linewidth = 1)\n",
    "ax.grid(b=True, which='Minor', linewidth = 0.5)\n",
    "ax.set_xlabel('$f$ / Hz',fontsize=FONTSIZE)\n",
    "ax.set_ylabel('Nebenkeulen',fontsize=FONTSIZE)\n",
    "fig.tight_layout()\n",
    "fig.savefig('Plots/Bericht/XY_Nebenkaulen_Virtuell.pdf', dpi = 300, format='pdf')\n",
    "\n",
    "#ax[1].plot(freq_plot, amount_sidelobes)\n",
    "#ax[1].set_title('Amount Sidelobes')\n"
   ]
  },
  {
   "cell_type": "code",
   "execution_count": 11,
   "metadata": {},
   "outputs": [
    {
     "name": "stderr",
     "output_type": "stream",
     "text": [
      "/Users/adrian/opt/anaconda3/lib/python3.9/site-packages/numpy/core/_asarray.py:171: VisibleDeprecationWarning: Creating an ndarray from ragged nested sequences (which is a list-or-tuple of lists-or-tuples-or ndarrays with different lengths or shapes) is deprecated. If you meant to do this, you must specify 'dtype=object' when creating the ndarray.\n",
      "  return array(a, dtype, copy=False, order=order, subok=True)\n"
     ]
    },
    {
     "ename": "ValueError",
     "evalue": "x and y must have same first dimension, but have shapes (9700,) and (0,)",
     "output_type": "error",
     "traceback": [
      "\u001b[0;31m---------------------------------------------------------------------------\u001b[0m",
      "\u001b[0;31mValueError\u001b[0m                                Traceback (most recent call last)",
      "\u001b[0;32m/var/folders/vt/7kjpwdgs64549p0v6331n9wr0000gn/T/ipykernel_2213/2209690082.py\u001b[0m in \u001b[0;36m<module>\u001b[0;34m\u001b[0m\n\u001b[1;32m      8\u001b[0m \u001b[0;34m\u001b[0m\u001b[0m\n\u001b[1;32m      9\u001b[0m \u001b[0max\u001b[0m\u001b[0;34m.\u001b[0m\u001b[0mplot\u001b[0m\u001b[0;34m(\u001b[0m\u001b[0mfreq_plot\u001b[0m\u001b[0;34m,\u001b[0m \u001b[0mdist_x_y\u001b[0m\u001b[0;34m,\u001b[0m \u001b[0mcolor\u001b[0m\u001b[0;34m=\u001b[0m\u001b[0;34m'midnightblue'\u001b[0m \u001b[0;34m)\u001b[0m\u001b[0;34m\u001b[0m\u001b[0;34m\u001b[0m\u001b[0m\n\u001b[0;32m---> 10\u001b[0;31m \u001b[0max\u001b[0m\u001b[0;34m.\u001b[0m\u001b[0mplot\u001b[0m\u001b[0;34m(\u001b[0m\u001b[0mfreq_plot\u001b[0m\u001b[0;34m,\u001b[0m \u001b[0mdist_x_y_real\u001b[0m\u001b[0;34m,\u001b[0m \u001b[0mcolor\u001b[0m\u001b[0;34m=\u001b[0m\u001b[0;34m'firebrick'\u001b[0m \u001b[0;34m)\u001b[0m\u001b[0;34m\u001b[0m\u001b[0;34m\u001b[0m\u001b[0m\n\u001b[0m\u001b[1;32m     11\u001b[0m \u001b[0max\u001b[0m\u001b[0;34m.\u001b[0m\u001b[0mset_xscale\u001b[0m\u001b[0;34m(\u001b[0m\u001b[0;34m'log'\u001b[0m\u001b[0;34m)\u001b[0m\u001b[0;34m\u001b[0m\u001b[0;34m\u001b[0m\u001b[0m\n\u001b[1;32m     12\u001b[0m \u001b[0max\u001b[0m\u001b[0;34m.\u001b[0m\u001b[0maxis\u001b[0m\u001b[0;34m(\u001b[0m\u001b[0;34m[\u001b[0m\u001b[0;36m50\u001b[0m\u001b[0;34m,\u001b[0m\u001b[0;36m20000\u001b[0m\u001b[0;34m,\u001b[0m\u001b[0;36m0\u001b[0m\u001b[0;34m,\u001b[0m\u001b[0;36m3.1\u001b[0m\u001b[0;34m]\u001b[0m\u001b[0;34m)\u001b[0m\u001b[0;34m\u001b[0m\u001b[0;34m\u001b[0m\u001b[0m\n",
      "\u001b[0;32m~/opt/anaconda3/lib/python3.9/site-packages/matplotlib/axes/_axes.py\u001b[0m in \u001b[0;36mplot\u001b[0;34m(self, scalex, scaley, data, *args, **kwargs)\u001b[0m\n\u001b[1;32m   1603\u001b[0m         \"\"\"\n\u001b[1;32m   1604\u001b[0m         \u001b[0mkwargs\u001b[0m \u001b[0;34m=\u001b[0m \u001b[0mcbook\u001b[0m\u001b[0;34m.\u001b[0m\u001b[0mnormalize_kwargs\u001b[0m\u001b[0;34m(\u001b[0m\u001b[0mkwargs\u001b[0m\u001b[0;34m,\u001b[0m \u001b[0mmlines\u001b[0m\u001b[0;34m.\u001b[0m\u001b[0mLine2D\u001b[0m\u001b[0;34m)\u001b[0m\u001b[0;34m\u001b[0m\u001b[0;34m\u001b[0m\u001b[0m\n\u001b[0;32m-> 1605\u001b[0;31m         \u001b[0mlines\u001b[0m \u001b[0;34m=\u001b[0m \u001b[0;34m[\u001b[0m\u001b[0;34m*\u001b[0m\u001b[0mself\u001b[0m\u001b[0;34m.\u001b[0m\u001b[0m_get_lines\u001b[0m\u001b[0;34m(\u001b[0m\u001b[0;34m*\u001b[0m\u001b[0margs\u001b[0m\u001b[0;34m,\u001b[0m \u001b[0mdata\u001b[0m\u001b[0;34m=\u001b[0m\u001b[0mdata\u001b[0m\u001b[0;34m,\u001b[0m \u001b[0;34m**\u001b[0m\u001b[0mkwargs\u001b[0m\u001b[0;34m)\u001b[0m\u001b[0;34m]\u001b[0m\u001b[0;34m\u001b[0m\u001b[0;34m\u001b[0m\u001b[0m\n\u001b[0m\u001b[1;32m   1606\u001b[0m         \u001b[0;32mfor\u001b[0m \u001b[0mline\u001b[0m \u001b[0;32min\u001b[0m \u001b[0mlines\u001b[0m\u001b[0;34m:\u001b[0m\u001b[0;34m\u001b[0m\u001b[0;34m\u001b[0m\u001b[0m\n\u001b[1;32m   1607\u001b[0m             \u001b[0mself\u001b[0m\u001b[0;34m.\u001b[0m\u001b[0madd_line\u001b[0m\u001b[0;34m(\u001b[0m\u001b[0mline\u001b[0m\u001b[0;34m)\u001b[0m\u001b[0;34m\u001b[0m\u001b[0;34m\u001b[0m\u001b[0m\n",
      "\u001b[0;32m~/opt/anaconda3/lib/python3.9/site-packages/matplotlib/axes/_base.py\u001b[0m in \u001b[0;36m__call__\u001b[0;34m(self, data, *args, **kwargs)\u001b[0m\n\u001b[1;32m    313\u001b[0m                 \u001b[0mthis\u001b[0m \u001b[0;34m+=\u001b[0m \u001b[0margs\u001b[0m\u001b[0;34m[\u001b[0m\u001b[0;36m0\u001b[0m\u001b[0;34m]\u001b[0m\u001b[0;34m,\u001b[0m\u001b[0;34m\u001b[0m\u001b[0;34m\u001b[0m\u001b[0m\n\u001b[1;32m    314\u001b[0m                 \u001b[0margs\u001b[0m \u001b[0;34m=\u001b[0m \u001b[0margs\u001b[0m\u001b[0;34m[\u001b[0m\u001b[0;36m1\u001b[0m\u001b[0;34m:\u001b[0m\u001b[0;34m]\u001b[0m\u001b[0;34m\u001b[0m\u001b[0;34m\u001b[0m\u001b[0m\n\u001b[0;32m--> 315\u001b[0;31m             \u001b[0;32myield\u001b[0m \u001b[0;32mfrom\u001b[0m \u001b[0mself\u001b[0m\u001b[0;34m.\u001b[0m\u001b[0m_plot_args\u001b[0m\u001b[0;34m(\u001b[0m\u001b[0mthis\u001b[0m\u001b[0;34m,\u001b[0m \u001b[0mkwargs\u001b[0m\u001b[0;34m)\u001b[0m\u001b[0;34m\u001b[0m\u001b[0;34m\u001b[0m\u001b[0m\n\u001b[0m\u001b[1;32m    316\u001b[0m \u001b[0;34m\u001b[0m\u001b[0m\n\u001b[1;32m    317\u001b[0m     \u001b[0;32mdef\u001b[0m \u001b[0mget_next_color\u001b[0m\u001b[0;34m(\u001b[0m\u001b[0mself\u001b[0m\u001b[0;34m)\u001b[0m\u001b[0;34m:\u001b[0m\u001b[0;34m\u001b[0m\u001b[0;34m\u001b[0m\u001b[0m\n",
      "\u001b[0;32m~/opt/anaconda3/lib/python3.9/site-packages/matplotlib/axes/_base.py\u001b[0m in \u001b[0;36m_plot_args\u001b[0;34m(self, tup, kwargs, return_kwargs)\u001b[0m\n\u001b[1;32m    499\u001b[0m \u001b[0;34m\u001b[0m\u001b[0m\n\u001b[1;32m    500\u001b[0m         \u001b[0;32mif\u001b[0m \u001b[0mx\u001b[0m\u001b[0;34m.\u001b[0m\u001b[0mshape\u001b[0m\u001b[0;34m[\u001b[0m\u001b[0;36m0\u001b[0m\u001b[0;34m]\u001b[0m \u001b[0;34m!=\u001b[0m \u001b[0my\u001b[0m\u001b[0;34m.\u001b[0m\u001b[0mshape\u001b[0m\u001b[0;34m[\u001b[0m\u001b[0;36m0\u001b[0m\u001b[0;34m]\u001b[0m\u001b[0;34m:\u001b[0m\u001b[0;34m\u001b[0m\u001b[0;34m\u001b[0m\u001b[0m\n\u001b[0;32m--> 501\u001b[0;31m             raise ValueError(f\"x and y must have same first dimension, but \"\n\u001b[0m\u001b[1;32m    502\u001b[0m                              f\"have shapes {x.shape} and {y.shape}\")\n\u001b[1;32m    503\u001b[0m         \u001b[0;32mif\u001b[0m \u001b[0mx\u001b[0m\u001b[0;34m.\u001b[0m\u001b[0mndim\u001b[0m \u001b[0;34m>\u001b[0m \u001b[0;36m2\u001b[0m \u001b[0;32mor\u001b[0m \u001b[0my\u001b[0m\u001b[0;34m.\u001b[0m\u001b[0mndim\u001b[0m \u001b[0;34m>\u001b[0m \u001b[0;36m2\u001b[0m\u001b[0;34m:\u001b[0m\u001b[0;34m\u001b[0m\u001b[0;34m\u001b[0m\u001b[0m\n",
      "\u001b[0;31mValueError\u001b[0m: x and y must have same first dimension, but have shapes (9700,) and (0,)"
     ]
    },
    {
     "data": {
      "image/png": "[encoded data removed]",
      "text/plain": [
       "<Figure size 576x216 with 1 Axes>"
      ]
     },
     "metadata": {
      "needs_background": "light"
     },
     "output_type": "display_data"
    }
   ],
   "source": [
    "FONTSIZE = 11\n",
    "\n",
    "x_labels = [50,100,400,1000,5000,10000,20000]\n",
    "y_labels = [0,0.5,1,1.5,2,2.5,3]\n",
    "\n",
    "freq_plot = np.arange(f_min,f_max-freq_max_minus)\n",
    "fig, ax = plt.subplots(1,1, figsize =(8,3))\n",
    "\n",
    "ax.plot(freq_plot, dist_x_y, color='midnightblue' )\n",
    "ax.plot(freq_plot, dist_x_y_real, color='firebrick' )\n",
    "ax.set_xscale('log')\n",
    "ax.axis([50,20000,0,3.1])\n",
    "ax.set_xticks(x_labels)\n",
    "ax.set_yticks(y_labels)\n",
    "ax.set_xticklabels(x_labels, fontsize = FONTSIZE)\n",
    "ax.set_yticklabels(y_labels, fontsize = FONTSIZE)\n",
    "#ax.set_title('Distance real - found')\n",
    "ax.xaxis.set_major_formatter(StrMethodFormatter('{x:.0f}'))\n",
    "ax.xaxis.set_minor_formatter(NullFormatter())\n",
    "ax.grid(b=True, which='Major', linewidth = 1)\n",
    "ax.grid(b=True, which='Minor', linewidth = 0.5)\n",
    "ax.set_xlabel('$f$ / Hz',fontsize=FONTSIZE)\n",
    "ax.set_ylabel('$x$ / m',fontsize=FONTSIZE)\n",
    "fig.tight_layout()\n",
    "fig.savefig('Plots/Bericht/XY_Distanz_Virtuell.pdf', dpi = 300, format='pdf')\n",
    "\n",
    "#ax[1].plot(freq_plot, amount_sidelobes)\n",
    "#ax[1].set_title('Amount Sidelobes')\n"
   ]
  },
  {
   "cell_type": "code",
   "execution_count": null,
   "metadata": {},
   "outputs": [
    {
     "name": "stdout",
     "output_type": "stream",
     "text": [
      "Quellposition xz bei x = [0.1] / z = [3.3]\n",
      "52.971046320873334\n"
     ]
    },
    {
     "data": {
      "image/png": "[encoded data removed]",
      "text/plain": [
       "<Figure size 432x432 with 2 Axes>"
      ]
     },
     "metadata": {
      "needs_background": "light"
     },
     "output_type": "display_data"
    }
   ],
   "source": [
    "fig = plt.figure(figsize=(6,6))\n",
    "map_y = np.sum(pm2,1)\n",
    "if (rg2.y_min == rg2.y_max):\n",
    "    mx = acoular.L_p(map_y.max())\n",
    "Lm_y = acoular.L_p(map_y)\n",
    "\n",
    "max_pegel_y = max_pegel(Lm_y, tolerance) \n",
    "x_coord_max_top = np.where(Lm_y.T == max_pegel_y[0])[1]*rg2.increment-((rg2.x_max-rg2.x_min)/2)\n",
    "y_coord_max_top = np.where(Lm_y.T == max_pegel_y[0])[0]*rg2.increment\n",
    "im = plt.imshow(acoular.L_p(map_y.T), \n",
    "           vmax=mx, \n",
    "           vmin=mx-10, \n",
    "           origin='upper', \n",
    "           interpolation='nearest', \n",
    "           extent=(rg2.x_min, rg2.x_max, rg2.z_max, rg2.z_min))\n",
    "plt.scatter(source_pos[0], source_pos[2], c='black',  marker = 'o')\n",
    "plt.scatter(x_coord_max_top, y_coord_max_top, c='red',  marker = 'x')\n",
    "print(f'Quellposition xz bei x = {x_coord_max_top} / z = {y_coord_max_top}')\n",
    "\n",
    "# Position of expected virtual sound source\n",
    "plt.xlabel('$x$ / m',fontsize=FONTSIZE)\n",
    "plt.ylabel('$z$ / m',fontsize=FONTSIZE)\n",
    "#plt.title('Top view (xz)' )\n",
    "\n",
    "ax = plt.gca()\n",
    "divider = make_axes_locatable(ax)\n",
    "cax = divider.append_axes(\"right\", size=\"5%\", pad=0.05)\n",
    "#cbar = fig.colorbar(im, fraction=0.046, pad=0.04)\n",
    "cbar = fig.colorbar(im, cax=cax)\n",
    "cbar.ax.tick_params(labelsize=FONTSIZE)\n",
    "cbar.set_label('$L_p$ / dB', fontsize=FONTSIZE)\n",
    "\n",
    "#print(max_pegel_y[0])\n",
    "print(np.max(Lm_y))\n",
    "#print(np.where(Lm_y.T == max_pegel_y[0]))\n",
    "\n",
    "#plt.savefig('Plots/Praesi/%s_%s%dHz_top.png'%(ts.name[14:21],bandwith,Frequenz), dpi = 300, format='png')\n",
    "#plt.savefig('Plots/Praesi/Simulation_%s%dHz_top.png'%(bandwith,Frequenz), dpi = 300, format='png')\n"
   ]
  },
  {
   "cell_type": "code",
   "execution_count": null,
   "metadata": {},
   "outputs": [
    {
     "name": "stderr",
     "output_type": "stream",
     "text": [
      "/var/folders/vt/7kjpwdgs64549p0v6331n9wr0000gn/T/ipykernel_71405/2302539366.py:5: Warning: Queried frequency band (17.818 to 22.4492 Hz) does not include any discrete FFT sample frequencies. Returning zeros.\n",
      "  pm2 = bb2.synthetic(freq, bandwidth_dict[bandwith])\n",
      "/var/folders/vt/7kjpwdgs64549p0v6331n9wr0000gn/T/ipykernel_71405/2302539366.py:5: Warning: Queried frequency band (18.7089 to 23.5717 Hz) does not include any discrete FFT sample frequencies. Returning zeros.\n",
      "  pm2 = bb2.synthetic(freq, bandwidth_dict[bandwith])\n",
      "/var/folders/vt/7kjpwdgs64549p0v6331n9wr0000gn/T/ipykernel_71405/2302539366.py:5: Warning: Queried frequency band (19.5998 to 24.6942 Hz) does not include any discrete FFT sample frequencies. Returning zeros.\n",
      "  pm2 = bb2.synthetic(freq, bandwidth_dict[bandwith])\n",
      "/var/folders/vt/7kjpwdgs64549p0v6331n9wr0000gn/T/ipykernel_71405/2302539366.py:5: Warning: Queried frequency band (25.8361 to 32.5514 Hz) does not include any discrete FFT sample frequencies. Returning zeros.\n",
      "  pm2 = bb2.synthetic(freq, bandwidth_dict[bandwith])\n",
      "/var/folders/vt/7kjpwdgs64549p0v6331n9wr0000gn/T/ipykernel_71405/2302539366.py:5: Warning: Queried frequency band (26.727 to 33.6739 Hz) does not include any discrete FFT sample frequencies. Returning zeros.\n",
      "  pm2 = bb2.synthetic(freq, bandwidth_dict[bandwith])\n",
      "/var/folders/vt/7kjpwdgs64549p0v6331n9wr0000gn/T/ipykernel_71405/2302539366.py:5: Warning: Queried frequency band (27.6179 to 34.7963 Hz) does not include any discrete FFT sample frequencies. Returning zeros.\n",
      "  pm2 = bb2.synthetic(freq, bandwidth_dict[bandwith])\n",
      "/var/folders/vt/7kjpwdgs64549p0v6331n9wr0000gn/T/ipykernel_71405/2302539366.py:5: Warning: Queried frequency band (28.5088 to 35.9188 Hz) does not include any discrete FFT sample frequencies. Returning zeros.\n",
      "  pm2 = bb2.synthetic(freq, bandwidth_dict[bandwith])\n",
      "/var/folders/vt/7kjpwdgs64549p0v6331n9wr0000gn/T/ipykernel_71405/2302539366.py:5: Warning: Queried frequency band (29.3997 to 37.0412 Hz) does not include any discrete FFT sample frequencies. Returning zeros.\n",
      "  pm2 = bb2.synthetic(freq, bandwidth_dict[bandwith])\n",
      "/var/folders/vt/7kjpwdgs64549p0v6331n9wr0000gn/T/ipykernel_71405/2302539366.py:5: Warning: Queried frequency band (38.3086 to 48.2659 Hz) does not include any discrete FFT sample frequencies. Returning zeros.\n",
      "  pm2 = bb2.synthetic(freq, bandwidth_dict[bandwith])\n",
      "/var/folders/vt/7kjpwdgs64549p0v6331n9wr0000gn/T/ipykernel_71405/2302539366.py:5: Warning: Queried frequency band (39.1995 to 49.3883 Hz) does not include any discrete FFT sample frequencies. Returning zeros.\n",
      "  pm2 = bb2.synthetic(freq, bandwidth_dict[bandwith])\n"
     ]
    },
    {
     "ename": "KeyboardInterrupt",
     "evalue": "",
     "output_type": "error",
     "traceback": [
      "\u001b[0;31m---------------------------------------------------------------------------\u001b[0m",
      "\u001b[0;31mKeyboardInterrupt\u001b[0m                         Traceback (most recent call last)",
      "\u001b[0;32m/var/folders/vt/7kjpwdgs64549p0v6331n9wr0000gn/T/ipykernel_71405/2302539366.py\u001b[0m in \u001b[0;36m<module>\u001b[0;34m\u001b[0m\n\u001b[1;32m      9\u001b[0m     \u001b[0mLm_y\u001b[0m \u001b[0;34m=\u001b[0m \u001b[0macoular\u001b[0m\u001b[0;34m.\u001b[0m\u001b[0mL_p\u001b[0m\u001b[0;34m(\u001b[0m\u001b[0mmap_y\u001b[0m\u001b[0;34m)\u001b[0m\u001b[0;34m\u001b[0m\u001b[0;34m\u001b[0m\u001b[0m\n\u001b[1;32m     10\u001b[0m \u001b[0;34m\u001b[0m\u001b[0m\n\u001b[0;32m---> 11\u001b[0;31m     \u001b[0mmax_pegel_y\u001b[0m \u001b[0;34m=\u001b[0m \u001b[0mmax_pegel\u001b[0m\u001b[0;34m(\u001b[0m\u001b[0mLm_y\u001b[0m\u001b[0;34m,\u001b[0m \u001b[0mtolerance\u001b[0m\u001b[0;34m)\u001b[0m\u001b[0;34m\u001b[0m\u001b[0;34m\u001b[0m\u001b[0m\n\u001b[0m\u001b[1;32m     12\u001b[0m     \u001b[0;32mif\u001b[0m \u001b[0;34m(\u001b[0m\u001b[0mlen\u001b[0m\u001b[0;34m(\u001b[0m\u001b[0mmax_pegel_y\u001b[0m\u001b[0;34m)\u001b[0m\u001b[0;34m>\u001b[0m\u001b[0;36m0\u001b[0m\u001b[0;34m)\u001b[0m\u001b[0;34m:\u001b[0m\u001b[0;34m\u001b[0m\u001b[0;34m\u001b[0m\u001b[0m\n\u001b[1;32m     13\u001b[0m         \u001b[0mx_coord_max_top\u001b[0m \u001b[0;34m=\u001b[0m \u001b[0mnp\u001b[0m\u001b[0;34m.\u001b[0m\u001b[0mwhere\u001b[0m\u001b[0;34m(\u001b[0m\u001b[0mLm_y\u001b[0m\u001b[0;34m.\u001b[0m\u001b[0mT\u001b[0m \u001b[0;34m==\u001b[0m \u001b[0mmax_pegel_y\u001b[0m\u001b[0;34m[\u001b[0m\u001b[0;36m0\u001b[0m\u001b[0;34m]\u001b[0m\u001b[0;34m)\u001b[0m\u001b[0;34m[\u001b[0m\u001b[0;36m1\u001b[0m\u001b[0;34m]\u001b[0m\u001b[0;34m*\u001b[0m\u001b[0mrg2\u001b[0m\u001b[0;34m.\u001b[0m\u001b[0mincrement\u001b[0m\u001b[0;34m-\u001b[0m\u001b[0;34m(\u001b[0m\u001b[0;34m(\u001b[0m\u001b[0mrg2\u001b[0m\u001b[0;34m.\u001b[0m\u001b[0mx_max\u001b[0m\u001b[0;34m-\u001b[0m\u001b[0mrg2\u001b[0m\u001b[0;34m.\u001b[0m\u001b[0mx_min\u001b[0m\u001b[0;34m)\u001b[0m\u001b[0;34m/\u001b[0m\u001b[0;36m2\u001b[0m\u001b[0;34m)\u001b[0m\u001b[0;34m\u001b[0m\u001b[0;34m\u001b[0m\u001b[0m\n",
      "\u001b[0;32m/var/folders/vt/7kjpwdgs64549p0v6331n9wr0000gn/T/ipykernel_71405/1759731584.py\u001b[0m in \u001b[0;36mmax_pegel\u001b[0;34m(Lm, tol)\u001b[0m\n\u001b[1;32m     17\u001b[0m         \u001b[0mmax_value_rot\u001b[0m  \u001b[0;34m=\u001b[0m \u001b[0mLm_rot\u001b[0m\u001b[0;34m[\u001b[0m\u001b[0mLm_rot_max\u001b[0m\u001b[0;34m[\u001b[0m\u001b[0;36m0\u001b[0m\u001b[0;34m]\u001b[0m\u001b[0;34m[\u001b[0m\u001b[0mi\u001b[0m\u001b[0;34m]\u001b[0m\u001b[0;34m]\u001b[0m\u001b[0;34m[\u001b[0m\u001b[0mLm_rot_max\u001b[0m\u001b[0;34m[\u001b[0m\u001b[0;36m1\u001b[0m\u001b[0;34m]\u001b[0m\u001b[0;34m[\u001b[0m\u001b[0mi\u001b[0m\u001b[0;34m]\u001b[0m\u001b[0;34m]\u001b[0m\u001b[0;34m\u001b[0m\u001b[0;34m\u001b[0m\u001b[0m\n\u001b[1;32m     18\u001b[0m \u001b[0;34m\u001b[0m\u001b[0m\n\u001b[0;32m---> 19\u001b[0;31m         \u001b[0;32mif\u001b[0m \u001b[0;34m(\u001b[0m\u001b[0mmax_value_rot\u001b[0m  \u001b[0;34m>=\u001b[0m \u001b[0mnp\u001b[0m\u001b[0;34m.\u001b[0m\u001b[0mamax\u001b[0m\u001b[0;34m(\u001b[0m\u001b[0mLm\u001b[0m\u001b[0;34m.\u001b[0m\u001b[0mT\u001b[0m\u001b[0;34m)\u001b[0m \u001b[0;34m-\u001b[0m \u001b[0mtol\u001b[0m\u001b[0;34m)\u001b[0m\u001b[0;34m:\u001b[0m\u001b[0;34m\u001b[0m\u001b[0;34m\u001b[0m\u001b[0m\n\u001b[0m\u001b[1;32m     20\u001b[0m             \u001b[0mmax_values_rot\u001b[0m \u001b[0;34m.\u001b[0m\u001b[0mappend\u001b[0m\u001b[0;34m(\u001b[0m\u001b[0mmax_value_rot\u001b[0m\u001b[0;34m)\u001b[0m\u001b[0;34m\u001b[0m\u001b[0;34m\u001b[0m\u001b[0m\n\u001b[1;32m     21\u001b[0m     \u001b[0mmax_values_rot\u001b[0m  \u001b[0;34m=\u001b[0m \u001b[0mnp\u001b[0m\u001b[0;34m.\u001b[0m\u001b[0marray\u001b[0m\u001b[0;34m(\u001b[0m\u001b[0mmax_values_rot\u001b[0m\u001b[0;34m)\u001b[0m\u001b[0;34m\u001b[0m\u001b[0;34m\u001b[0m\u001b[0m\n",
      "\u001b[0;32m<__array_function__ internals>\u001b[0m in \u001b[0;36mamax\u001b[0;34m(*args, **kwargs)\u001b[0m\n",
      "\u001b[0;32m~/opt/anaconda3/lib/python3.9/site-packages/numpy/core/fromnumeric.py\u001b[0m in \u001b[0;36mamax\u001b[0;34m(a, axis, out, keepdims, initial, where)\u001b[0m\n\u001b[1;32m   2731\u001b[0m     \u001b[0;36m5\u001b[0m\u001b[0;34m\u001b[0m\u001b[0;34m\u001b[0m\u001b[0m\n\u001b[1;32m   2732\u001b[0m     \"\"\"\n\u001b[0;32m-> 2733\u001b[0;31m     return _wrapreduction(a, np.maximum, 'max', axis, None, out,\n\u001b[0m\u001b[1;32m   2734\u001b[0m                           keepdims=keepdims, initial=initial, where=where)\n\u001b[1;32m   2735\u001b[0m \u001b[0;34m\u001b[0m\u001b[0m\n",
      "\u001b[0;32m~/opt/anaconda3/lib/python3.9/site-packages/numpy/core/fromnumeric.py\u001b[0m in \u001b[0;36m_wrapreduction\u001b[0;34m(obj, ufunc, method, axis, dtype, out, **kwargs)\u001b[0m\n\u001b[1;32m     68\u001b[0m \u001b[0;34m\u001b[0m\u001b[0m\n\u001b[1;32m     69\u001b[0m \u001b[0;34m\u001b[0m\u001b[0m\n\u001b[0;32m---> 70\u001b[0;31m \u001b[0;32mdef\u001b[0m \u001b[0m_wrapreduction\u001b[0m\u001b[0;34m(\u001b[0m\u001b[0mobj\u001b[0m\u001b[0;34m,\u001b[0m \u001b[0mufunc\u001b[0m\u001b[0;34m,\u001b[0m \u001b[0mmethod\u001b[0m\u001b[0;34m,\u001b[0m \u001b[0maxis\u001b[0m\u001b[0;34m,\u001b[0m \u001b[0mdtype\u001b[0m\u001b[0;34m,\u001b[0m \u001b[0mout\u001b[0m\u001b[0;34m,\u001b[0m \u001b[0;34m**\u001b[0m\u001b[0mkwargs\u001b[0m\u001b[0;34m)\u001b[0m\u001b[0;34m:\u001b[0m\u001b[0;34m\u001b[0m\u001b[0;34m\u001b[0m\u001b[0m\n\u001b[0m\u001b[1;32m     71\u001b[0m     passkwargs = {k: v for k, v in kwargs.items()\n\u001b[1;32m     72\u001b[0m                   if v is not np._NoValue}\n",
      "\u001b[0;31mKeyboardInterrupt\u001b[0m: "
     ]
    }
   ],
   "source": [
    "\n",
    "#dist_x_z = []\n",
    "#freq_max_minus = 100\n",
    "#amount_sidelobes = []\n",
    "#for freq in range (f_min,f_max-freq_max_minus):\n",
    "#    pm2 = bb2.synthetic(freq, bandwidth_dict[bandwith])\n",
    "#    map_y = np.sum(pm2,1)\n",
    "#    if (rg2.y_min == rg2.y_max):\n",
    "#        mx = acoular.L_p(map_y.max())\n",
    "#    Lm_y = acoular.L_p(map_y)\n",
    "#\n",
    "#    max_pegel_y = max_pegel(Lm_y, tolerance) \n",
    "#    if (len(max_pegel_y)>0):\n",
    "#        x_coord_max_top = np.where(Lm_y.T == max_pegel_y[0])[1]*rg2.increment-((rg2.x_max-rg2.x_min)/2)\n",
    "#        y_coord_max_top = np.where(Lm_y.T == max_pegel_y[0])[0]*rg2.increment\n",
    "#        dist_x_z.append(get_euclidian_dist(x_coord_max_top, source_pos[0],y_coord_max_top,source_pos[2]))\n",
    "#    else:\n",
    "#        dist_x_z.append(None)\n",
    "#\n",
    "#    amount_sidelobes.append(len(max_pegel_y)-1)\n",
    "#\n",
    "#freq_plot = np.arange(f_min,f_max-freq_max_minus)\n",
    "#fig, ax = plt.subplots(2)\n",
    "#ax[0].plot(freq_plot, dist_x_z)\n",
    "#ax[0].set_title('Distance real - found')\n",
    "#ax[1].plot(freq_plot, amount_sidelobes)\n",
    "#ax[1].set_title('Amount Sidelobes')\n",
    "##fig.tight_layout\n",
    "#\n",
    "#\n",
    "#"
   ]
  },
  {
   "cell_type": "code",
   "execution_count": null,
   "metadata": {},
   "outputs": [],
   "source": [
    "#if (len(max_pegel_y) > 1):\n",
    "    #for i in range(1,len(max_pegel_y)):\n",
    "        #plt.scatter(np.where(Lm_y.T == max_pegel_y[i])[1]*rg2.increment-((rg2.x_max-rg2.x_min)/2), np.where(Lm_y.T == max_pegel_y[i])[0]*rg2.increment,  c='white',  marker = 'x')"
   ]
  }
 ],
 "metadata": {
  "deepnote": {},
  "deepnote_execution_queue": [],
  "deepnote_notebook_id": "d7e0f7a9-3fe4-4f45-8c09-38ce0ca3c0ae",
  "interpreter": {
   "hash": "b3ba2566441a7c06988d0923437866b63cedc61552a5af99d1f4fb67d367b25f"
  },
  "kernelspec": {
   "display_name": "Python 3.8.3 64-bit ('base': conda)",
   "language": "python",
   "name": "python3"
  },
  "language_info": {
   "codemirror_mode": {
    "name": "ipython",
    "version": 3
   },
   "file_extension": ".py",
   "mimetype": "text/x-python",
   "name": "python",
   "nbconvert_exporter": "python",
   "pygments_lexer": "ipython3",
   "version": "3.9.7"
  },
  "orig_nbformat": 4
 },
 "nbformat": 4,
 "nbformat_minor": 2
}
